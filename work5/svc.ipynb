{
 "cells": [
  {
   "cell_type": "code",
   "execution_count": 1,
   "id": "initial_id",
   "metadata": {
    "collapsed": true,
    "ExecuteTime": {
     "end_time": "2024-04-02T07:34:14.494476Z",
     "start_time": "2024-04-02T07:34:13.917469Z"
    }
   },
   "outputs": [],
   "source": [
    "import numpy as np\n",
    "import matplotlib.pyplot as plt\n",
    "import seaborn as sns\n",
    "from sklearn.svm import SVC\n",
    "import scipy.io as sio\n",
    "from sklearn.preprocessing import StandardScaler"
   ]
  },
  {
   "cell_type": "code",
   "outputs": [],
   "source": [
    "data = sio.loadmat('Mult-class Problem.mat')"
   ],
   "metadata": {
    "collapsed": false,
    "ExecuteTime": {
     "end_time": "2024-04-02T07:34:14.558092Z",
     "start_time": "2024-04-02T07:34:14.496474Z"
    }
   },
   "id": "28cc44c44de7da69",
   "execution_count": 2
  },
  {
   "cell_type": "code",
   "outputs": [],
   "source": [
    "Trainting_data = np.array(data['Training_data']).reshape(-1,190)\n",
    "Testing_data = np.array(data['Testing_data']).reshape(-1,190)\n",
    "Label_training = np.array(data['Label_training']).reshape(-1,1)\n",
    "Label_testing = np.array(data['Label_testing']).reshape(-1,1)"
   ],
   "metadata": {
    "collapsed": false,
    "ExecuteTime": {
     "end_time": "2024-04-02T07:36:52.067299Z",
     "start_time": "2024-04-02T07:36:52.051602Z"
    }
   },
   "id": "584777ea8757d7d",
   "execution_count": 6
  },
  {
   "cell_type": "code",
   "outputs": [
    {
     "ename": "IndexError",
     "evalue": "boolean index did not match indexed array along dimension 1; dimension is 190 but corresponding boolean dimension is 1",
     "output_type": "error",
     "traceback": [
      "\u001B[1;31m---------------------------------------------------------------------------\u001B[0m",
      "\u001B[1;31mIndexError\u001B[0m                                Traceback (most recent call last)",
      "Cell \u001B[1;32mIn[8], line 1\u001B[0m\n\u001B[1;32m----> 1\u001B[0m Trainting_data[Label_training \u001B[38;5;241m==\u001B[39m \u001B[38;5;241m1\u001B[39m]\n",
      "\u001B[1;31mIndexError\u001B[0m: boolean index did not match indexed array along dimension 1; dimension is 190 but corresponding boolean dimension is 1"
     ]
    }
   ],
   "source": [
    "Trainting_data[Label_training == 1]"
   ],
   "metadata": {
    "collapsed": false,
    "ExecuteTime": {
     "end_time": "2024-04-02T07:37:58.637600Z",
     "start_time": "2024-04-02T07:37:58.610620Z"
    }
   },
   "id": "c2946447c4e9ab97",
   "execution_count": 8
  },
  {
   "cell_type": "code",
   "outputs": [],
   "source": [
    "plt.scatter()"
   ],
   "metadata": {
    "collapsed": false
   },
   "id": "9a6dc31762a1a0e4"
  }
 ],
 "metadata": {
  "kernelspec": {
   "display_name": "Python 3",
   "language": "python",
   "name": "python3"
  },
  "language_info": {
   "codemirror_mode": {
    "name": "ipython",
    "version": 2
   },
   "file_extension": ".py",
   "mimetype": "text/x-python",
   "name": "python",
   "nbconvert_exporter": "python",
   "pygments_lexer": "ipython2",
   "version": "2.7.6"
  }
 },
 "nbformat": 4,
 "nbformat_minor": 5
}
