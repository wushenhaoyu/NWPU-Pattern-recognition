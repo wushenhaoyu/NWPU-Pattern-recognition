{
 "cells": [
  {
   "cell_type": "code",
   "execution_count": 99,
   "id": "initial_id",
   "metadata": {
    "collapsed": true,
    "ExecuteTime": {
     "end_time": "2024-03-26T07:03:13.252547Z",
     "start_time": "2024-03-26T07:03:13.248237Z"
    }
   },
   "outputs": [],
   "source": [
    "import numpy as np\n",
    "import scipy.io as sio\n",
    "import matplotlib.pyplot as plt\n",
    "from sklearn import datasets"
   ]
  },
  {
   "cell_type": "code",
   "outputs": [],
   "source": [
    "iris = datasets.load_iris()"
   ],
   "metadata": {
    "collapsed": false,
    "ExecuteTime": {
     "end_time": "2024-03-26T07:03:13.622992Z",
     "start_time": "2024-03-26T07:03:13.615883Z"
    }
   },
   "id": "907a1b6778ec5e86",
   "execution_count": 100
  },
  {
   "cell_type": "code",
   "outputs": [
    {
     "data": {
      "text/plain": "<Figure size 640x480 with 1 Axes>",
      "image/png": "[encoded data removed]"
     },
     "metadata": {},
     "output_type": "display_data"
    }
   ],
   "source": [
    "x = iris.data\n",
    "y = iris.target\n",
    "# 只做一个简单的二分类\n",
    "x = x[y<2, :2]\n",
    "y = y[y<2]\n",
    "\n",
    "plt.scatter(x[y==0, 0], x[y==0, 1])\n",
    "plt.scatter(x[y==1, 0], x[y==1, 1])\n",
    "plt.show()\n"
   ],
   "metadata": {
    "collapsed": false,
    "ExecuteTime": {
     "end_time": "2024-03-26T07:03:14.188183Z",
     "start_time": "2024-03-26T07:03:13.813110Z"
    }
   },
   "id": "8800a2d35528af4d",
   "execution_count": 101
  },
  {
   "cell_type": "code",
   "outputs": [],
   "source": [
    "data_class1 = np.hstack((x[y==0,0].reshape(-1,1),x[y==0,1].reshape(-1,1)))\n",
    "data_class2 = np.hstack((x[y==1,0].reshape(-1,1),x[y==1,1].reshape(-1,1)))"
   ],
   "metadata": {
    "collapsed": false,
    "ExecuteTime": {
     "end_time": "2024-03-26T07:03:14.200196Z",
     "start_time": "2024-03-26T07:03:14.191178Z"
    }
   },
   "id": "8e0c19f79d6c75ad",
   "execution_count": 102
  },
  {
   "cell_type": "code",
   "outputs": [],
   "source": [],
   "metadata": {
    "collapsed": false,
    "ExecuteTime": {
     "end_time": "2024-03-26T07:03:14.414049Z",
     "start_time": "2024-03-26T07:03:14.409743Z"
    }
   },
   "id": "7dc6197bba1508db",
   "execution_count": 102
  },
  {
   "cell_type": "code",
   "outputs": [],
   "source": [
    "data_class1 = np.hstack((np.ones(data_class1.shape[0]).reshape(-1,1),data_class1)) #增广样本矩阵\n",
    "data_class2 = np.hstack((np.ones(data_class2.shape[0]).reshape(-1,1),data_class2)) * -1"
   ],
   "metadata": {
    "collapsed": false,
    "ExecuteTime": {
     "end_time": "2024-03-26T07:03:14.533958Z",
     "start_time": "2024-03-26T07:03:14.526894Z"
    }
   },
   "id": "d8e9b713fd33119c",
   "execution_count": 103
  },
  {
   "cell_type": "code",
   "outputs": [],
   "source": [
    "a = np.ones(data_class1.shape[1])"
   ],
   "metadata": {
    "collapsed": false,
    "ExecuteTime": {
     "end_time": "2024-03-26T07:03:15.149476Z",
     "start_time": "2024-03-26T07:03:15.144652Z"
    }
   },
   "id": "2ef57252e555ecbe",
   "execution_count": 104
  },
  {
   "cell_type": "code",
   "outputs": [],
   "source": [
    "n_w = 1 #分类错误数量\n",
    "alpha = 0.05 #学习率"
   ],
   "metadata": {
    "collapsed": false,
    "ExecuteTime": {
     "end_time": "2024-03-26T07:03:15.300814Z",
     "start_time": "2024-03-26T07:03:15.296730Z"
    }
   },
   "id": "f741c7382dcba58d",
   "execution_count": 105
  },
  {
   "cell_type": "code",
   "outputs": [],
   "source": [
    "combined_data = np.concatenate((data_class1, data_class2), axis=0)\n",
    "\n",
    "# 打乱数据顺序\n",
    "np.random.shuffle(combined_data)"
   ],
   "metadata": {
    "collapsed": false,
    "ExecuteTime": {
     "end_time": "2024-03-26T07:03:15.714505Z",
     "start_time": "2024-03-26T07:03:15.708613Z"
    }
   },
   "id": "f08351c11251c9c5",
   "execution_count": 106
  },
  {
   "cell_type": "code",
   "outputs": [
    {
     "name": "stdout",
     "output_type": "stream",
     "text": [
      "[13361.  79396.5 36995.5] 517089.9000000064\n",
      "[ 26721. 158792.  73990.] 1034170.8000000055\n",
      "[ 40081.         238187.50000002 110984.49999999] 1551251.7000000859\n",
      "[ 53441.         317583.00000003 147978.99999999] 2068332.6000000995\n",
      "[ 66801.         396978.50000002 184973.5       ] 2585413.500000107\n",
      "[ 80160.99999999 476374.00000002 221968.00000001] 3102494.4000001065\n",
      "[ 93520.99999998 555769.50000004 258962.50000002] 3619575.300000217\n",
      "[106880.99999997 635165.00000009 295957.        ] 4136656.200000427\n",
      "[120240.99999996 714560.50000015 332951.49999998] 4653737.10000063\n",
      "[133600.99999996 793956.0000002  369945.99999997] 5170818.000000835\n",
      "[146960.99999996 873351.50000025 406940.49999995] 5687898.900001049\n",
      "[160320.99999996 952747.00000031 443934.99999993] 6204979.800001262\n",
      "[ 173680.99999996 1032142.50000036  480929.49999992] 6722060.700001475\n",
      "[ 187040.99999996 1111538.00000031  517923.9999999 ] 7239141.600001149\n",
      "[ 200400.99999996 1190933.50000022  554918.49999992] 7756222.500000795\n",
      "[ 213760.99999996 1270329.00000013  591912.99999995] 8273303.400000469\n",
      "[ 227120.99999996 1349724.50000005  628907.49999998] 8790384.300000142\n",
      "[ 240480.99999996 1429119.99999996  665902.00000001] 9307465.199999815\n",
      "[ 253840.99999996 1508515.49999988  702896.50000004] 9824546.099999487\n",
      "[ 267200.99999998 1587910.99999979  739891.00000007] 10341626.999999177\n",
      "[ 280561.00000001 1667306.49999971  776885.5000001 ] 10858707.899998887\n",
      "[ 293921.00000005 1746701.99999962  813880.00000013] 11375788.799998598\n",
      "[ 307281.00000009 1826097.49999953  850874.50000016] 11892869.699998308\n",
      "[ 320641.00000013 1905492.99999945  887869.00000019] 12409950.59999802\n",
      "[ 334001.00000017 1984888.49999936  924863.50000022] 12927031.499997731\n",
      "[ 347361.00000021 2064283.99999928  961858.00000025] 13444112.399997443\n",
      "[ 360721.00000024 2143679.49999911  998852.50000028] 13961193.299996734\n",
      "[ 374081.00000028 2223074.99999888 1035847.00000031] 14478274.199995762\n",
      "[ 387441.00000032 2302470.49999866 1072841.50000022] 14995355.099994406\n",
      "[ 400801.00000036 2381865.99999843 1109836.00000006] 15512435.999992857\n",
      "[ 414161.0000004 2461261.4999982 1146830.4999999] 16029516.899991306\n",
      "[ 427521.00000044 2540656.99999798 1183824.99999975] 16546597.799989756\n",
      "[ 440881.00000048 2620052.49999775 1220819.49999959] 17063678.6999882\n",
      "[ 454241.00000051 2699447.99999753 1257813.99999943] 17580759.599986654\n",
      "[ 467601.00000055 2778843.4999973  1294808.49999928] 18097840.499985103\n",
      "[ 480961.00000059 2858238.99999708 1331802.99999912] 18614921.39998355\n",
      "[ 494321.00000063 2937634.49999685 1368797.49999897] 19132002.299982\n",
      "[ 507681.00000067 3017029.99999663 1405791.99999881] 19649083.19998045\n"
     ]
    },
    {
     "ename": "KeyboardInterrupt",
     "evalue": "",
     "output_type": "error",
     "traceback": [
      "\u001B[1;31m---------------------------------------------------------------------------\u001B[0m",
      "\u001B[1;31mKeyboardInterrupt\u001B[0m                         Traceback (most recent call last)",
      "Cell \u001B[1;32mIn[107], line 7\u001B[0m\n\u001B[0;32m      5\u001B[0m site \u001B[38;5;241m=\u001B[39m \u001B[38;5;241m0\u001B[39m\n\u001B[0;32m      6\u001B[0m \u001B[38;5;28;01mfor\u001B[39;00m i \u001B[38;5;129;01min\u001B[39;00m combined_data:\n\u001B[1;32m----> 7\u001B[0m     \u001B[38;5;28;01mif\u001B[39;00m np\u001B[38;5;241m.\u001B[39mdot(i,a) \u001B[38;5;241m<\u001B[39m\u001B[38;5;241m=\u001B[39m \u001B[38;5;241m0\u001B[39m:\n\u001B[0;32m      8\u001B[0m         n_w \u001B[38;5;241m+\u001B[39m\u001B[38;5;241m=\u001B[39m \u001B[38;5;241m1\u001B[39m\n\u001B[0;32m      9\u001B[0m         site \u001B[38;5;241m-\u001B[39m\u001B[38;5;241m=\u001B[39m i\n",
      "File \u001B[1;32m<__array_function__ internals>:180\u001B[0m, in \u001B[0;36mdot\u001B[1;34m(*args, **kwargs)\u001B[0m\n",
      "\u001B[1;31mKeyboardInterrupt\u001B[0m: "
     ]
    }
   ],
   "source": [
    "num = 0 #轮数\n",
    "while n_w != 0:\n",
    "    num += 1\n",
    "    n_w = 0\n",
    "    site = 0\n",
    "    for i in combined_data:\n",
    "        if np.dot(i,a) <= 0:\n",
    "            n_w += 1\n",
    "            site -= i\n",
    "        a += alpha * site\n",
    "    if num % 100 == 0:\n",
    "        print(a,np.dot(i,a))"
   ],
   "metadata": {
    "collapsed": false,
    "ExecuteTime": {
     "end_time": "2024-03-26T07:03:21.515754Z",
     "start_time": "2024-03-26T07:03:16.323141Z"
    }
   },
   "id": "71e941306e186498",
   "execution_count": 107
  },
  {
   "cell_type": "markdown",
   "source": [
    "数据集太复杂，拟合无法收敛"
   ],
   "metadata": {
    "collapsed": false
   },
   "id": "abce36a0d461444"
  }
 ],
 "metadata": {
  "kernelspec": {
   "display_name": "Python 3",
   "language": "python",
   "name": "python3"
  },
  "language_info": {
   "codemirror_mode": {
    "name": "ipython",
    "version": 2
   },
   "file_extension": ".py",
   "mimetype": "text/x-python",
   "name": "python",
   "nbconvert_exporter": "python",
   "pygments_lexer": "ipython2",
   "version": "2.7.6"
  }
 },
 "nbformat": 4,
 "nbformat_minor": 5
}
