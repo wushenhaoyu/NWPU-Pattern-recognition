{
 "cells": [
  {
   "cell_type": "code",
   "execution_count": 16,
   "id": "initial_id",
   "metadata": {
    "collapsed": true,
    "ExecuteTime": {
     "end_time": "2024-03-26T10:47:15.657766Z",
     "start_time": "2024-03-26T10:47:15.569477Z"
    }
   },
   "outputs": [
    {
     "data": {
      "text/plain": "<Figure size 640x480 with 1 Axes>",
      "image/png": "[encoded data removed]"
     },
     "metadata": {},
     "output_type": "display_data"
    }
   ],
   "source": [
    "import numpy as np\n",
    "import scipy.io as sio\n",
    "import matplotlib.pyplot as plt\n",
    "from sklearn import datasets\n",
    "\n",
    "iris = datasets.load_iris()\n",
    "x = iris.data\n",
    "y = iris.target\n",
    "# 只做一个简单的二分类\n",
    "x = x[y < 2, :2]\n",
    "y = y[y < 2]\n",
    "plt.scatter(x[y == 0, 0], x[y == 0, 1])\n",
    "plt.scatter(x[y == 1, 0], x[y == 1, 1])\n",
    "plt.show()\n",
    "x = iris.data\n",
    "y = iris.target\n",
    "# 只做一个简单的二分类\n",
    "x = x[y < 2]\n",
    "y = y[y < 2]\n"
   ]
  },
  {
   "cell_type": "code",
   "outputs": [],
   "source": [
    "data_class1 = x[y == 0]\n",
    "data_class2 = x[y == 1]\n",
    "data_class1 = np.hstack((np.ones(data_class1.shape[0]).reshape(-1, 1), data_class1))  #增广样本矩阵\n",
    "data_class2 = np.hstack((np.ones(data_class2.shape[0]).reshape(-1, 1), data_class2)) * -1\n"
   ],
   "metadata": {
    "collapsed": false,
    "ExecuteTime": {
     "end_time": "2024-03-26T11:05:34.211620Z",
     "start_time": "2024-03-26T11:05:34.208293Z"
    }
   },
   "id": "1336b3fcb3448dbb",
   "execution_count": 30
  },
  {
   "cell_type": "code",
   "outputs": [
    {
     "name": "stdout",
     "output_type": "stream",
     "text": [
      "(100, 5)\n"
     ]
    }
   ],
   "source": [
    "combined_data = np.concatenate((data_class1, data_class2), axis=0)\n",
    "# 打乱数据顺序\n",
    "np.random.shuffle(combined_data)\n",
    "print(combined_data.shape)"
   ],
   "metadata": {
    "collapsed": false,
    "ExecuteTime": {
     "end_time": "2024-03-26T11:05:34.594597Z",
     "start_time": "2024-03-26T11:05:34.590316Z"
    }
   },
   "id": "c4b3f8954c8da660",
   "execution_count": 31
  },
  {
   "cell_type": "code",
   "outputs": [],
   "source": [
    "a = np.zeros(data_class1.shape[1])\n",
    "n_w = 1  #分类错误数量\n",
    "alpha = 0.0005  #学习率"
   ],
   "metadata": {
    "collapsed": false,
    "ExecuteTime": {
     "end_time": "2024-03-26T11:05:34.989739Z",
     "start_time": "2024-03-26T11:05:34.986048Z"
    }
   },
   "id": "fc78e663e559d801",
   "execution_count": 32
  },
  {
   "cell_type": "code",
   "outputs": [
    {
     "name": "stdout",
     "output_type": "stream",
     "text": [
      "第1轮,不正确的数量为1\n",
      "第1轮,不正确的数量为1\n",
      "第1轮,不正确的数量为2\n",
      "第1轮,不正确的数量为2\n",
      "第1轮,不正确的数量为2\n",
      "第1轮,不正确的数量为2\n",
      "第1轮,不正确的数量为3\n",
      "第1轮,不正确的数量为3\n",
      "第1轮,不正确的数量为4\n",
      "第1轮,不正确的数量为5\n",
      "第1轮,不正确的数量为6\n",
      "第1轮,不正确的数量为6\n",
      "第1轮,不正确的数量为7\n",
      "第1轮,不正确的数量为7\n",
      "第1轮,不正确的数量为7\n",
      "第1轮,不正确的数量为8\n",
      "第1轮,不正确的数量为9\n",
      "第1轮,不正确的数量为9\n",
      "第1轮,不正确的数量为9\n",
      "第1轮,不正确的数量为9\n",
      "第1轮,不正确的数量为9\n",
      "第1轮,不正确的数量为9\n",
      "第1轮,不正确的数量为9\n",
      "第1轮,不正确的数量为9\n",
      "第1轮,不正确的数量为9\n",
      "第1轮,不正确的数量为9\n",
      "第1轮,不正确的数量为9\n",
      "第1轮,不正确的数量为9\n",
      "第1轮,不正确的数量为9\n",
      "第1轮,不正确的数量为9\n",
      "第1轮,不正确的数量为9\n",
      "第1轮,不正确的数量为9\n",
      "第1轮,不正确的数量为9\n",
      "第1轮,不正确的数量为9\n",
      "第1轮,不正确的数量为9\n",
      "第1轮,不正确的数量为9\n",
      "第1轮,不正确的数量为9\n",
      "第1轮,不正确的数量为9\n",
      "第1轮,不正确的数量为9\n",
      "第1轮,不正确的数量为9\n",
      "第1轮,不正确的数量为9\n",
      "第1轮,不正确的数量为9\n",
      "第1轮,不正确的数量为10\n",
      "第1轮,不正确的数量为11\n",
      "第1轮,不正确的数量为11\n",
      "第1轮,不正确的数量为11\n",
      "第1轮,不正确的数量为11\n",
      "第1轮,不正确的数量为11\n",
      "第1轮,不正确的数量为11\n",
      "第1轮,不正确的数量为11\n",
      "第1轮,不正确的数量为11\n",
      "第1轮,不正确的数量为11\n",
      "第1轮,不正确的数量为11\n",
      "第1轮,不正确的数量为11\n",
      "第1轮,不正确的数量为11\n",
      "第1轮,不正确的数量为11\n",
      "第1轮,不正确的数量为11\n",
      "第1轮,不正确的数量为11\n",
      "第1轮,不正确的数量为11\n",
      "第1轮,不正确的数量为11\n",
      "第1轮,不正确的数量为11\n",
      "第1轮,不正确的数量为11\n",
      "第1轮,不正确的数量为11\n",
      "第1轮,不正确的数量为11\n",
      "第1轮,不正确的数量为11\n",
      "第1轮,不正确的数量为11\n",
      "第1轮,不正确的数量为11\n",
      "第1轮,不正确的数量为11\n",
      "第1轮,不正确的数量为11\n",
      "第1轮,不正确的数量为11\n",
      "第1轮,不正确的数量为11\n",
      "第1轮,不正确的数量为11\n",
      "第1轮,不正确的数量为11\n",
      "第1轮,不正确的数量为11\n",
      "第1轮,不正确的数量为11\n",
      "第1轮,不正确的数量为11\n",
      "第1轮,不正确的数量为11\n",
      "第1轮,不正确的数量为11\n",
      "第1轮,不正确的数量为11\n",
      "第1轮,不正确的数量为11\n",
      "第1轮,不正确的数量为11\n",
      "第1轮,不正确的数量为11\n",
      "第1轮,不正确的数量为11\n",
      "第1轮,不正确的数量为11\n",
      "第1轮,不正确的数量为11\n",
      "第1轮,不正确的数量为11\n",
      "第1轮,不正确的数量为11\n",
      "第1轮,不正确的数量为11\n",
      "第1轮,不正确的数量为11\n",
      "第1轮,不正确的数量为11\n",
      "第1轮,不正确的数量为11\n",
      "第1轮,不正确的数量为11\n",
      "第1轮,不正确的数量为11\n",
      "第1轮,不正确的数量为11\n",
      "第1轮,不正确的数量为11\n",
      "第1轮,不正确的数量为11\n",
      "第1轮,不正确的数量为11\n",
      "第1轮,不正确的数量为11\n",
      "第1轮,不正确的数量为11\n",
      "第1轮,不正确的数量为11\n",
      "第2轮,不正确的数量为0\n",
      "第2轮,不正确的数量为0\n",
      "第2轮,不正确的数量为0\n",
      "第2轮,不正确的数量为0\n",
      "第2轮,不正确的数量为0\n",
      "第2轮,不正确的数量为0\n",
      "第2轮,不正确的数量为0\n",
      "第2轮,不正确的数量为0\n",
      "第2轮,不正确的数量为0\n",
      "第2轮,不正确的数量为0\n",
      "第2轮,不正确的数量为0\n",
      "第2轮,不正确的数量为0\n",
      "第2轮,不正确的数量为0\n",
      "第2轮,不正确的数量为0\n",
      "第2轮,不正确的数量为0\n",
      "第2轮,不正确的数量为0\n",
      "第2轮,不正确的数量为0\n",
      "第2轮,不正确的数量为0\n",
      "第2轮,不正确的数量为0\n",
      "第2轮,不正确的数量为0\n",
      "第2轮,不正确的数量为0\n",
      "第2轮,不正确的数量为0\n",
      "第2轮,不正确的数量为0\n",
      "第2轮,不正确的数量为0\n",
      "第2轮,不正确的数量为0\n",
      "第2轮,不正确的数量为0\n",
      "第2轮,不正确的数量为0\n",
      "第2轮,不正确的数量为0\n",
      "第2轮,不正确的数量为0\n",
      "第2轮,不正确的数量为0\n",
      "第2轮,不正确的数量为0\n",
      "第2轮,不正确的数量为0\n",
      "第2轮,不正确的数量为0\n",
      "第2轮,不正确的数量为0\n",
      "第2轮,不正确的数量为0\n",
      "第2轮,不正确的数量为0\n",
      "第2轮,不正确的数量为0\n",
      "第2轮,不正确的数量为0\n",
      "第2轮,不正确的数量为0\n",
      "第2轮,不正确的数量为0\n",
      "第2轮,不正确的数量为0\n",
      "第2轮,不正确的数量为0\n",
      "第2轮,不正确的数量为0\n",
      "第2轮,不正确的数量为0\n",
      "第2轮,不正确的数量为0\n",
      "第2轮,不正确的数量为0\n",
      "第2轮,不正确的数量为0\n",
      "第2轮,不正确的数量为0\n",
      "第2轮,不正确的数量为0\n",
      "第2轮,不正确的数量为0\n",
      "第2轮,不正确的数量为0\n",
      "第2轮,不正确的数量为0\n",
      "第2轮,不正确的数量为0\n",
      "第2轮,不正确的数量为0\n",
      "第2轮,不正确的数量为0\n",
      "第2轮,不正确的数量为0\n",
      "第2轮,不正确的数量为0\n",
      "第2轮,不正确的数量为0\n",
      "第2轮,不正确的数量为0\n",
      "第2轮,不正确的数量为0\n",
      "第2轮,不正确的数量为0\n",
      "第2轮,不正确的数量为0\n",
      "第2轮,不正确的数量为0\n",
      "第2轮,不正确的数量为0\n",
      "第2轮,不正确的数量为0\n",
      "第2轮,不正确的数量为0\n",
      "第2轮,不正确的数量为0\n",
      "第2轮,不正确的数量为0\n",
      "第2轮,不正确的数量为0\n",
      "第2轮,不正确的数量为0\n",
      "第2轮,不正确的数量为0\n",
      "第2轮,不正确的数量为0\n",
      "第2轮,不正确的数量为0\n",
      "第2轮,不正确的数量为0\n",
      "第2轮,不正确的数量为0\n",
      "第2轮,不正确的数量为0\n",
      "第2轮,不正确的数量为0\n",
      "第2轮,不正确的数量为0\n",
      "第2轮,不正确的数量为0\n",
      "第2轮,不正确的数量为0\n",
      "第2轮,不正确的数量为0\n",
      "第2轮,不正确的数量为0\n",
      "第2轮,不正确的数量为0\n",
      "第2轮,不正确的数量为0\n",
      "第2轮,不正确的数量为0\n",
      "第2轮,不正确的数量为0\n",
      "第2轮,不正确的数量为0\n",
      "第2轮,不正确的数量为0\n",
      "第2轮,不正确的数量为0\n",
      "第2轮,不正确的数量为0\n",
      "第2轮,不正确的数量为0\n",
      "第2轮,不正确的数量为0\n",
      "第2轮,不正确的数量为0\n",
      "第2轮,不正确的数量为0\n",
      "第2轮,不正确的数量为0\n",
      "第2轮,不正确的数量为0\n",
      "第2轮,不正确的数量为0\n",
      "第2轮,不正确的数量为0\n",
      "第2轮,不正确的数量为0\n",
      "第2轮,不正确的数量为0\n"
     ]
    }
   ],
   "source": [
    "num = 0  #轮数\n",
    "while n_w != 0:\n",
    "    num += 1\n",
    "    n_w = 0\n",
    "    site = 0\n",
    "    for i in combined_data:\n",
    "        if np.dot(i, a) <= 0:\n",
    "            n_w += 1\n",
    "            a += alpha * i\n",
    "        print(\"第%d轮,不正确的数量为%d\" % (num, n_w))"
   ],
   "metadata": {
    "collapsed": false,
    "ExecuteTime": {
     "end_time": "2024-03-26T11:05:35.458526Z",
     "start_time": "2024-03-26T11:05:35.452860Z"
    }
   },
   "id": "907a1b6778ec5e86",
   "execution_count": 33
  },
  {
   "cell_type": "code",
   "outputs": [
    {
     "name": "stdout",
     "output_type": "stream",
     "text": [
      "[ 0.0005  0.0011  0.0044 -0.0058 -0.0023]\n"
     ]
    }
   ],
   "source": [
    "print(a)"
   ],
   "metadata": {
    "collapsed": false,
    "ExecuteTime": {
     "end_time": "2024-03-26T11:05:54.908919Z",
     "start_time": "2024-03-26T11:05:54.905225Z"
    }
   },
   "id": "bd7ab593a4bdd208",
   "execution_count": 34
  },
  {
   "cell_type": "code",
   "outputs": [
    {
     "data": {
      "text/plain": "<Figure size 640x480 with 1 Axes>",
      "image/png": "[encoded data removed]"
     },
     "metadata": {},
     "output_type": "display_data"
    }
   ],
   "source": [
    "x_min, x_max = x[:, 1].min() - 1, x[:, 1].max() + 1\n",
    "x_values = np.linspace(x_min, x_max, 100)\n",
    "y_values = -(a[1]*x_values + a[0]) / a[2]\n",
    "\n",
    "plt.scatter(x[y == 0, 1], x[y == 0, 2], color = 'blue')\n",
    "plt.scatter(x[y == 1, 1], x[y == 1, 2], color = 'red')\n",
    "plt.plot(x_values, y_values, color = 'black')\n",
    "plt.xlim(x_min, x_max)\n",
    "plt.show()"
   ],
   "metadata": {
    "collapsed": false,
    "ExecuteTime": {
     "end_time": "2024-03-26T11:21:56.369368Z",
     "start_time": "2024-03-26T11:21:56.280151Z"
    }
   },
   "id": "8e0c19f79d6c75ad",
   "execution_count": 40
  },
  {
   "cell_type": "code",
   "outputs": [],
   "source": [],
   "metadata": {
    "collapsed": false
   },
   "id": "d8e9b713fd33119c"
  }
 ],
 "metadata": {
  "kernelspec": {
   "display_name": "Python 3",
   "language": "python",
   "name": "python3"
  },
  "language_info": {
   "codemirror_mode": {
    "name": "ipython",
    "version": 2
   },
   "file_extension": ".py",
   "mimetype": "text/x-python",
   "name": "python",
   "nbconvert_exporter": "python",
   "pygments_lexer": "ipython2",
   "version": "2.7.6"
  }
 },
 "nbformat": 4,
 "nbformat_minor": 5
}
