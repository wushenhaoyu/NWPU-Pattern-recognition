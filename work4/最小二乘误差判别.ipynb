{
 "cells": [
  {
   "cell_type": "code",
   "execution_count": 1,
   "id": "initial_id",
   "metadata": {
    "collapsed": true,
    "ExecuteTime": {
     "end_time": "2024-03-26T05:20:12.653249Z",
     "start_time": "2024-03-26T05:20:12.008132Z"
    }
   },
   "outputs": [],
   "source": [
    "import numpy as np\n",
    "import scipy.io as sio\n",
    "import matplotlib.pyplot as plt\n",
    "\n",
    "data = sio.loadmat('2-Class Problem.mat')\n",
    "Training_class1 = np.array(data['Training_class1'])\n",
    "Training_class2 = np.array(data['Training_class2'])\n",
    "Testing = np.array(data['Testing'])\n",
    "Label_Testing = np.array(data['Label_Testing'])\n",
    "d = Training_class1.shape[0]  #特征数量"
   ]
  }
 ],
 "metadata": {
  "kernelspec": {
   "display_name": "Python 3",
   "language": "python",
   "name": "python3"
  },
  "language_info": {
   "codemirror_mode": {
    "name": "ipython",
    "version": 2
   },
   "file_extension": ".py",
   "mimetype": "text/x-python",
   "name": "python",
   "nbconvert_exporter": "python",
   "pygments_lexer": "ipython2",
   "version": "2.7.6"
  }
 },
 "nbformat": 4,
 "nbformat_minor": 5
}
