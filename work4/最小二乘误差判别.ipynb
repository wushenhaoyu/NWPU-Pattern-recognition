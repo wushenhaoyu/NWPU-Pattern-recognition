{
 "cells": [
  {
   "cell_type": "code",
   "execution_count": 294,
   "id": "initial_id",
   "metadata": {
    "collapsed": true,
    "ExecuteTime": {
     "end_time": "2024-03-26T13:04:27.594751Z",
     "start_time": "2024-03-26T13:04:27.586908Z"
    }
   },
   "outputs": [],
   "source": [
    "import numpy as np\n",
    "import scipy.io as sio\n",
    "import matplotlib.pyplot as plt\n",
    "\n",
    "data = sio.loadmat('2-Class Problem.mat')\n",
    "Training_class1 = np.array(data['Training_class1']) *0.001\n",
    "Training_class2 = np.array(data['Training_class2']) * 0.001\n",
    "Testing = np.array(data['Testing'])\n",
    "Label_Testing = np.array(data['Label_Testing'])\n",
    "d = Training_class1.shape[0]  #特征数量"
   ]
  },
  {
   "cell_type": "code",
   "outputs": [],
   "source": [
    "Training_class1 = np.hstack((np.ones(Training_class1.shape[1]).reshape(-1,1),Training_class1.T))\n",
    "Training_class2 = np.hstack((np.ones(Training_class2.shape[1]).reshape(-1,1),Training_class2.T))"
   ],
   "metadata": {
    "collapsed": false,
    "ExecuteTime": {
     "end_time": "2024-03-26T13:04:28.323893Z",
     "start_time": "2024-03-26T13:04:28.319940Z"
    }
   },
   "id": "a664ebcac06076f7",
   "execution_count": 295
  },
  {
   "cell_type": "code",
   "outputs": [],
   "source": [
    "a = np.zeros(Training_class1.shape[1]).reshape(1,-1)"
   ],
   "metadata": {
    "collapsed": false,
    "ExecuteTime": {
     "end_time": "2024-03-26T13:04:28.747291Z",
     "start_time": "2024-03-26T13:04:28.743982Z"
    }
   },
   "id": "f69e26dea278c46",
   "execution_count": 296
  },
  {
   "cell_type": "code",
   "outputs": [
    {
     "name": "stdout",
     "output_type": "stream",
     "text": [
      "(1, 191) (647, 191) (717, 191)\n"
     ]
    }
   ],
   "source": [
    "print(a.shape,Training_class1.shape,Training_class2.shape)"
   ],
   "metadata": {
    "collapsed": false,
    "ExecuteTime": {
     "end_time": "2024-03-26T13:04:29.261598Z",
     "start_time": "2024-03-26T13:04:29.258312Z"
    }
   },
   "id": "855fb4d97e69f735",
   "execution_count": 297
  },
  {
   "cell_type": "code",
   "outputs": [],
   "source": [
    "Training_data = np.vstack((Training_class1,Training_class2 * -1))"
   ],
   "metadata": {
    "collapsed": false,
    "ExecuteTime": {
     "end_time": "2024-03-26T13:04:29.698234Z",
     "start_time": "2024-03-26T13:04:29.693755Z"
    }
   },
   "id": "50520cffe928d84b",
   "execution_count": 298
  },
  {
   "cell_type": "code",
   "outputs": [],
   "source": [
    "np.random.shuffle(Training_data)"
   ],
   "metadata": {
    "collapsed": false,
    "ExecuteTime": {
     "end_time": "2024-03-26T13:04:30.121150Z",
     "start_time": "2024-03-26T13:04:30.115512Z"
    }
   },
   "id": "d8f5e1fcc64fae5f",
   "execution_count": 299
  },
  {
   "cell_type": "code",
   "outputs": [
    {
     "name": "stdout",
     "output_type": "stream",
     "text": [
      "[[ 10 -10  10 ... -10 -10 -10]]\n"
     ]
    }
   ],
   "source": [
    "b = []\n",
    "for i in Training_data:\n",
    "    if i[0] < 0:\n",
    "        b.append(-10)\n",
    "    else:\n",
    "        b.append(10)\n",
    "b = np.array(b)\n",
    "print(b.reshape(1,-1))"
   ],
   "metadata": {
    "collapsed": false,
    "ExecuteTime": {
     "end_time": "2024-03-26T13:04:32.310939Z",
     "start_time": "2024-03-26T13:04:32.306429Z"
    }
   },
   "id": "739b52fc9cbf8865",
   "execution_count": 300
  },
  {
   "cell_type": "code",
   "outputs": [
    {
     "name": "stdout",
     "output_type": "stream",
     "text": [
      "(1, 191)\n"
     ]
    }
   ],
   "source": [
    "alpha = 0.00005\n",
    "def loss():\n",
    "    mat = np.dot(Training_data,a.T) - b.reshape(-1,1)\n",
    "    return np.dot(mat.T,mat).item()\n",
    "print(a.shape)"
   ],
   "metadata": {
    "collapsed": false,
    "ExecuteTime": {
     "end_time": "2024-03-26T13:04:32.747263Z",
     "start_time": "2024-03-26T13:04:32.742841Z"
    }
   },
   "id": "32787463e3e80c0b",
   "execution_count": 301
  },
  {
   "cell_type": "code",
   "outputs": [
    {
     "name": "stdout",
     "output_type": "stream",
     "text": [
      "第1轮训练,error值为136350.0266\n",
      "49.973406479171466\n",
      "第2轮训练,error值为40.4720\n",
      "9.50140701572105\n",
      "第3轮训练,error值为1.7805\n",
      "7.720929062164502\n",
      "第4轮训练,error值为0.9291\n",
      "6.791803521928246\n",
      "第5轮训练,error值为0.6753\n",
      "6.116498248595702\n",
      "第6轮训练,error值为0.5312\n",
      "5.585286802497348\n",
      "第7轮训练,error值为0.4430\n",
      "5.1423217759675\n",
      "第8轮训练,error值为0.3847\n",
      "4.757648271482204\n",
      "第9轮训练,error值为0.3429\n",
      "4.414782349068205\n",
      "第10轮训练,error值为0.3105\n",
      "4.104292716262612\n",
      "第11轮训练,error值为0.2838\n",
      "3.8204706024974837\n",
      "第12轮训练,error值为0.2609\n",
      "3.5595994354800853\n",
      "第13轮训练,error值为0.2405\n",
      "3.3190535823722316\n",
      "第14轮训练,error值为0.2222\n",
      "3.0968269103601638\n",
      "第15轮训练,error值为0.2055\n",
      "2.8912843408837694\n",
      "第16轮训练,error值为0.1903\n",
      "2.701029240696634\n",
      "第17轮训练,error值为0.1762\n",
      "2.5248311200870064\n",
      "第18轮训练,error值为0.1632\n",
      "2.361584851677276\n",
      "第19轮训练,error值为0.1513\n",
      "2.2102864770818873\n",
      "第20轮训练,error值为0.1403\n",
      "2.07001784626603\n",
      "第21轮训练,error值为0.1301\n",
      "1.9399360537838424\n",
      "第22轮训练,error值为0.1207\n",
      "1.8192655640456457\n",
      "第23轮训练,error值为0.1120\n",
      "1.7072919177596724\n",
      "第24轮训练,error值为0.1039\n",
      "1.6033564309174686\n",
      "第25轮训练,error值为0.0965\n",
      "1.5068515677966947\n",
      "第26轮训练,error值为0.0896\n",
      "1.4172168104342127\n",
      "第27轮训练,error值为0.0833\n",
      "1.3339349210310605\n",
      "第28轮训练,error值为0.0774\n",
      "1.2565285329966418\n",
      "第29轮训练,error值为0.0720\n",
      "1.1845570275059505\n",
      "第30轮训练,error值为0.0669\n",
      "1.1176136641804033\n",
      "第31轮训练,error值为0.0623\n",
      "1.0553229412934106\n",
      "第32轮训练,error值为0.0580\n",
      "0.9973381650753925\n",
      "第33轮训练,error值为0.0540\n",
      "0.9433392104596732\n",
      "第34轮训练,error值为0.0503\n",
      "0.8930304575989269\n",
      "第35轮训练,error值为0.0469\n",
      "0.8461388900260643\n"
     ]
    }
   ],
   "source": [
    "e_list = []\n",
    "e = 51\n",
    "e_current = loss()\n",
    "e_past = 0\n",
    "num = 0\n",
    "while e >= 0.05:\n",
    "    e_past = e_current\n",
    "    num += 1\n",
    "    for i in Training_data:\n",
    "        copy = np.copy(i).reshape(-1,1)\n",
    "        if np.dot(a,copy) <= 0:\n",
    "            a = a - alpha * np.dot((np.dot(Training_data,a.T) - b.reshape(-1,1)).T,Training_data)\n",
    "    e_current = loss()\n",
    "    e = e_past - e_current\n",
    "    print(\"第%d轮训练,error值为%.4f\" %(num,e))\n",
    "    print(loss())\n",
    "    e_list.append(loss())\n",
    "\n",
    "    \n",
    "    "
   ],
   "metadata": {
    "collapsed": false,
    "ExecuteTime": {
     "end_time": "2024-03-26T13:04:42.328647Z",
     "start_time": "2024-03-26T13:04:34.376688Z"
    }
   },
   "id": "3b8a88dbf4a856a",
   "execution_count": 302
  },
  {
   "cell_type": "code",
   "outputs": [
    {
     "name": "stdout",
     "output_type": "stream",
     "text": [
      "[49.973406479171466, 9.50140701572105, 7.720929062164502, 6.791803521928246, 6.116498248595702, 5.585286802497348, 5.1423217759675, 4.757648271482204, 4.414782349068205, 4.104292716262612, 3.8204706024974837, 3.5595994354800853, 3.3190535823722316, 3.0968269103601638, 2.8912843408837694, 2.701029240696634, 2.5248311200870064, 2.361584851677276, 2.2102864770818873, 2.07001784626603, 1.9399360537838424, 1.8192655640456457, 1.7072919177596724, 1.6033564309174686, 1.5068515677966947, 1.4172168104342127, 1.3339349210310605, 1.2565285329966418, 1.1845570275059505, 1.1176136641804033, 1.0553229412934106, 0.9973381650753925, 0.9433392104596732, 0.8930304575989269, 0.8461388900260643]\n"
     ]
    }
   ],
   "source": [
    "print(e_list)"
   ],
   "metadata": {
    "collapsed": false,
    "ExecuteTime": {
     "end_time": "2024-03-26T13:04:44.933423Z",
     "start_time": "2024-03-26T13:04:44.929760Z"
    }
   },
   "id": "9c1be7a558e5f5b",
   "execution_count": 303
  },
  {
   "cell_type": "code",
   "outputs": [
    {
     "data": {
      "text/plain": "[<matplotlib.lines.Line2D at 0x216c4ab7e10>]"
     },
     "execution_count": 304,
     "metadata": {},
     "output_type": "execute_result"
    },
    {
     "data": {
      "text/plain": "<Figure size 640x480 with 1 Axes>",
      "image/png": "[encoded data removed]"
     },
     "metadata": {},
     "output_type": "display_data"
    }
   ],
   "source": [
    "plt.plot(range(0,len(e_list)),e_list)"
   ],
   "metadata": {
    "collapsed": false,
    "ExecuteTime": {
     "end_time": "2024-03-26T13:04:45.720537Z",
     "start_time": "2024-03-26T13:04:45.630016Z"
    }
   },
   "id": "20669dd8ecde0aac",
   "execution_count": 304
  },
  {
   "cell_type": "code",
   "outputs": [],
   "source": [],
   "metadata": {
    "collapsed": false
   },
   "id": "30bd2e24570f625f"
  }
 ],
 "metadata": {
  "kernelspec": {
   "display_name": "Python 3",
   "language": "python",
   "name": "python3"
  },
  "language_info": {
   "codemirror_mode": {
    "name": "ipython",
    "version": 2
   },
   "file_extension": ".py",
   "mimetype": "text/x-python",
   "name": "python",
   "nbconvert_exporter": "python",
   "pygments_lexer": "ipython2",
   "version": "2.7.6"
  }
 },
 "nbformat": 4,
 "nbformat_minor": 5
}
