{
 "cells": [
  {
   "cell_type": "code",
   "execution_count": 44,
   "id": "initial_id",
   "metadata": {
    "collapsed": true,
    "ExecuteTime": {
     "end_time": "2024-03-26T07:38:58.134240Z",
     "start_time": "2024-03-26T07:38:58.121201Z"
    }
   },
   "outputs": [],
   "source": [
    "import numpy as np\n",
    "import scipy.io as sio\n",
    "import matplotlib.pyplot as plt\n",
    "\n",
    "data = sio.loadmat('2-Class Problem.mat')\n",
    "Training_class1 = np.array(data['Training_class1'])\n",
    "Training_class2 = np.array(data['Training_class2'])\n",
    "Testing = np.array(data['Testing'])\n",
    "Label_Testing = np.array(data['Label_Testing'])\n",
    "d = Training_class1.shape[0]  #特征数量"
   ]
  },
  {
   "cell_type": "code",
   "outputs": [
    {
     "data": {
      "text/plain": "array([[54, 69, 54, ..., 51, 34, 68],\n       [88, 67, 57, ..., 73, 41, 52],\n       [65, 82, 66, ..., 32, 39, 32],\n       ...,\n       [77, 56, 52, ..., 32, 43, 25],\n       [68, 76, 88, ..., 26, 65, 43],\n       [44, 49, 51, ...,  3, 36, 13]], dtype=uint8)"
     },
     "execution_count": 45,
     "metadata": {},
     "output_type": "execute_result"
    }
   ],
   "source": [
    "Training_class1"
   ],
   "metadata": {
    "collapsed": false,
    "ExecuteTime": {
     "end_time": "2024-03-26T07:38:58.838344Z",
     "start_time": "2024-03-26T07:38:58.828631Z"
    }
   },
   "id": "73132a4e10aea9ef",
   "execution_count": 45
  },
  {
   "cell_type": "code",
   "outputs": [],
   "source": [
    "Training_class1 = np.hstack((np.ones(Training_class1.shape[0]).reshape(-1,1),Training_class1)) #增广样本向量\n",
    "Training_class2 = np.hstack((np.ones(Training_class2.shape[0]).reshape(-1,1),Training_class2)) * -1"
   ],
   "metadata": {
    "collapsed": false,
    "ExecuteTime": {
     "end_time": "2024-03-26T07:39:02.521135Z",
     "start_time": "2024-03-26T07:39:02.513217Z"
    }
   },
   "id": "73d9dd694985dfa",
   "execution_count": 46
  },
  {
   "cell_type": "code",
   "outputs": [
    {
     "data": {
      "text/plain": "array([[ 1., 54., 69., ..., 51., 34., 68.],\n       [ 1., 88., 67., ..., 73., 41., 52.],\n       [ 1., 65., 82., ..., 32., 39., 32.],\n       ...,\n       [ 1., 77., 56., ..., 32., 43., 25.],\n       [ 1., 68., 76., ..., 26., 65., 43.],\n       [ 1., 44., 49., ...,  3., 36., 13.]])"
     },
     "execution_count": 47,
     "metadata": {},
     "output_type": "execute_result"
    }
   ],
   "source": [
    "Training_class1"
   ],
   "metadata": {
    "collapsed": false,
    "ExecuteTime": {
     "end_time": "2024-03-26T07:39:03.275474Z",
     "start_time": "2024-03-26T07:39:03.268697Z"
    }
   },
   "id": "e9042b1e00f36049",
   "execution_count": 47
  },
  {
   "cell_type": "code",
   "outputs": [],
   "source": [
    "combined_data = np.hstack((Training_class1, Training_class2))\n",
    "\n",
    "# 打乱数据顺序\n",
    "np.random.shuffle(combined_data)"
   ],
   "metadata": {
    "collapsed": false,
    "ExecuteTime": {
     "end_time": "2024-03-26T07:33:46.386947Z",
     "start_time": "2024-03-26T07:33:46.375833Z"
    }
   },
   "id": "b598540fd1c6c40e",
   "execution_count": 29
  },
  {
   "cell_type": "code",
   "outputs": [],
   "source": [
    "b = [50 if x < 0 else 200 for x in combined_data[0] ]"
   ],
   "metadata": {
    "collapsed": false,
    "ExecuteTime": {
     "end_time": "2024-03-26T07:33:47.176917Z",
     "start_time": "2024-03-26T07:33:47.171500Z"
    }
   },
   "id": "be22de59db6134c3",
   "execution_count": 30
  },
  {
   "cell_type": "code",
   "outputs": [],
   "source": [
    "a = np.ones(Training_class1.shape[0] + 1).reshape(-1,1) #增广权向量"
   ],
   "metadata": {
    "collapsed": false,
    "ExecuteTime": {
     "end_time": "2024-03-26T07:33:47.590485Z",
     "start_time": "2024-03-26T07:33:47.585073Z"
    }
   },
   "id": "22a0280d3463f688",
   "execution_count": 31
  },
  {
   "cell_type": "code",
   "outputs": [],
   "source": [
    "alpha = 0.01 #学习率\n"
   ],
   "metadata": {
    "collapsed": false,
    "ExecuteTime": {
     "end_time": "2024-03-26T07:33:48.017397Z",
     "start_time": "2024-03-26T07:33:48.013635Z"
    }
   },
   "id": "825c5bf055808f0",
   "execution_count": 32
  },
  {
   "cell_type": "code",
   "outputs": [
    {
     "ename": "ValueError",
     "evalue": "shapes (1366,190) and (191,1) not aligned: 190 (dim 1) != 191 (dim 0)",
     "output_type": "error",
     "traceback": [
      "\u001B[1;31m---------------------------------------------------------------------------\u001B[0m",
      "\u001B[1;31mValueError\u001B[0m                                Traceback (most recent call last)",
      "Cell \u001B[1;32mIn[39], line 1\u001B[0m\n\u001B[1;32m----> 1\u001B[0m error \u001B[38;5;241m=\u001B[39m (np\u001B[38;5;241m.\u001B[39mdot(combined_data\u001B[38;5;241m.\u001B[39mT,a\u001B[38;5;241m.\u001B[39mreshape(\u001B[38;5;241m-\u001B[39m\u001B[38;5;241m1\u001B[39m,\u001B[38;5;241m1\u001B[39m)))\u001B[38;5;241m*\u001B[39m\u001B[38;5;241m*\u001B[39m \u001B[38;5;241m2\u001B[39m\n\u001B[0;32m      2\u001B[0m \u001B[38;5;28mprint\u001B[39m(error)\n\u001B[0;32m      3\u001B[0m \u001B[38;5;28;01mwhile\u001B[39;00m error \u001B[38;5;241m>\u001B[39m \u001B[38;5;241m1000\u001B[39m:\n",
      "File \u001B[1;32m<__array_function__ internals>:180\u001B[0m, in \u001B[0;36mdot\u001B[1;34m(*args, **kwargs)\u001B[0m\n",
      "\u001B[1;31mValueError\u001B[0m: shapes (1366,190) and (191,1) not aligned: 190 (dim 1) != 191 (dim 0)"
     ]
    }
   ],
   "source": [
    "error = (np.dot(combined_data.T,a.reshape(-1,1)))** 2\n",
    "print(error)\n",
    "while error > 1000:\n",
    "    for i,j in zip(combined_data.T,b):\n",
    "        print(np.dot(i,a))\n",
    "        if np.dot(i,a) <= 0:\n",
    "            a -= alpha * np.dot(combined_data ,(np.dot(combined_data.T,a)-j))\n",
    "    error = np.dot(combined_data.T,np.array(b)) ** 2\n",
    "    print(error)"
   ],
   "metadata": {
    "collapsed": false,
    "ExecuteTime": {
     "end_time": "2024-03-26T07:37:42.312573Z",
     "start_time": "2024-03-26T07:37:42.277964Z"
    }
   },
   "id": "65426c3ece12eac5",
   "execution_count": 39
  },
  {
   "cell_type": "code",
   "outputs": [],
   "source": [],
   "metadata": {
    "collapsed": false
   },
   "id": "99e9a0fc10cee59a"
  }
 ],
 "metadata": {
  "kernelspec": {
   "display_name": "Python 3",
   "language": "python",
   "name": "python3"
  },
  "language_info": {
   "codemirror_mode": {
    "name": "ipython",
    "version": 2
   },
   "file_extension": ".py",
   "mimetype": "text/x-python",
   "name": "python",
   "nbconvert_exporter": "python",
   "pygments_lexer": "ipython2",
   "version": "2.7.6"
  }
 },
 "nbformat": 4,
 "nbformat_minor": 5
}
