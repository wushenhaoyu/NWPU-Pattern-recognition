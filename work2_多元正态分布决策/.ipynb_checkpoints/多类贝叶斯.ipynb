{
 "cells": [
  {
   "cell_type": "code",
   "execution_count": 1,
   "id": "initial_id",
   "metadata": {
    "collapsed": true,
    "ExecuteTime": {
     "end_time": "2024-03-18T09:27:11.862208Z",
     "start_time": "2024-03-18T09:27:11.351745Z"
    }
   },
   "outputs": [],
   "source": [
    "import numpy as np\n",
    "import scipy.io as sio\n",
    "import math"
   ]
  },
  {
   "cell_type": "code",
   "outputs": [],
   "source": [
    "data = sio.loadmat('../Mult-class Problem.mat')"
   ],
   "metadata": {
    "collapsed": false,
    "ExecuteTime": {
     "end_time": "2024-03-18T09:27:56.064181Z",
     "start_time": "2024-03-18T09:27:55.986312Z"
    }
   },
   "id": "7e57defaa2e07e7b",
   "execution_count": 3
  },
  {
   "cell_type": "code",
   "outputs": [
    {
     "name": "stdout",
     "output_type": "stream",
     "text": [
      "dict_keys(['__header__', '__version__', '__globals__', 'Training_data', 'Testing_data', 'Label_training', 'Label_testing'])\n"
     ]
    }
   ],
   "source": [
    "print(data.keys())"
   ],
   "metadata": {
    "collapsed": false,
    "ExecuteTime": {
     "end_time": "2024-03-18T09:28:02.721467Z",
     "start_time": "2024-03-18T09:28:02.713812Z"
    }
   },
   "id": "272ca25bf18f6e70",
   "execution_count": 4
  },
  {
   "cell_type": "code",
   "outputs": [],
   "source": [
    "Training_data = np.array(data['Training_data'])\n",
    "Testing_data = np.array(data['Testing_data'])\n",
    "Label_training = np.array(data['Label_training'])\n",
    "Label_testing = np.array(data['Label_testing'])\n"
   ],
   "metadata": {
    "collapsed": false,
    "ExecuteTime": {
     "end_time": "2024-03-18T09:29:09.578382Z",
     "start_time": "2024-03-18T09:29:09.564542Z"
    }
   },
   "id": "aeffb3aa0dc7a411",
   "execution_count": 5
  },
  {
   "cell_type": "code",
   "outputs": [],
   "source": [
    "\n",
    "arr_set = set(Label_training.tolist()[0])\n",
    "n = len(arr_set)"
   ],
   "metadata": {
    "collapsed": false,
    "ExecuteTime": {
     "end_time": "2024-03-18T09:35:14.193990Z",
     "start_time": "2024-03-18T09:35:14.187381Z"
    }
   },
   "id": "168c83af7c16e121",
   "execution_count": 13
  },
  {
   "cell_type": "code",
   "outputs": [
    {
     "name": "stderr",
     "output_type": "stream",
     "text": [
      "C:\\Users\\wushen\\AppData\\Local\\Temp\\ipykernel_9724\\128653850.py:6: DeprecationWarning: Conversion of an array with ndim > 0 to a scalar is deprecated, and will error in future. Ensure you extract a single element from your array before performing this operation. (Deprecated NumPy 1.25.)\n",
      "  list[int(label) - 1].append(data)\n"
     ]
    }
   ],
   "source": [
    "list = []\n",
    "for i in range(0,n):\n",
    "    list.append([])\n",
    "for data,label in zip(Training_data.T,Label_training.T):\n",
    "    try:\n",
    "        list[int(label) - 1].append(data)\n",
    "    except BaseException:\n",
    "        print(int(label) - 1)\n",
    "    "
   ],
   "metadata": {
    "collapsed": false,
    "ExecuteTime": {
     "end_time": "2024-03-18T09:38:29.947011Z",
     "start_time": "2024-03-18T09:38:29.876130Z"
    }
   },
   "id": "17ff266d1fb0ee5b",
   "execution_count": 19
  }
 ],
 "metadata": {
  "kernelspec": {
   "display_name": "Python 3",
   "language": "python",
   "name": "python3"
  },
  "language_info": {
   "codemirror_mode": {
    "name": "ipython",
    "version": 2
   },
   "file_extension": ".py",
   "mimetype": "text/x-python",
   "name": "python",
   "nbconvert_exporter": "python",
   "pygments_lexer": "ipython2",
   "version": "2.7.6"
  }
 },
 "nbformat": 4,
 "nbformat_minor": 5
}
