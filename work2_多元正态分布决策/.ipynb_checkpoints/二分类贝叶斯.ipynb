{
 "cells": [
  {
   "cell_type": "code",
   "execution_count": 4,
   "id": "initial_id",
   "metadata": {
    "collapsed": true,
    "ExecuteTime": {
     "end_time": "2024-03-18T17:13:19.073806Z",
     "start_time": "2024-03-18T17:13:19.067055Z"
    }
   },
   "outputs": [],
   "source": [
    "import numpy as np\n",
    "import scipy.io as sio\n",
    "import math\n",
    "pi = 3.141592653589793\n",
    "#此部分为上课练习"
   ]
  },
  {
   "cell_type": "code",
   "outputs": [],
   "source": [
    "data = sio.loadmat('2-Class Problem.mat')"
   ],
   "metadata": {
    "collapsed": false,
    "ExecuteTime": {
     "end_time": "2024-03-18T17:13:19.691284Z",
     "start_time": "2024-03-18T17:13:19.668398Z"
    }
   },
   "id": "244a3f70df40a726",
   "execution_count": 5
  },
  {
   "cell_type": "code",
   "outputs": [
    {
     "name": "stdout",
     "output_type": "stream",
     "text": [
      "dict_keys(['__header__', '__version__', '__globals__', 'Training_class1', 'Training_class2', 'Testing', 'Label_Testing'])\n"
     ]
    }
   ],
   "source": [
    "print(data.keys())\n"
   ],
   "metadata": {
    "collapsed": false,
    "ExecuteTime": {
     "end_time": "2024-03-18T17:13:20.269201Z",
     "start_time": "2024-03-18T17:13:20.262716Z"
    }
   },
   "id": "849af2f001b72b71",
   "execution_count": 6
  },
  {
   "cell_type": "code",
   "outputs": [],
   "source": [
    "#加载数据\n",
    "Training_class1 = np.array(data['Training_class1'])\n",
    "Training_class2 = np.array(data['Training_class2'])\n",
    "Testing = np.array(data['Testing'])\n",
    "Label_Testing = np.array(data['Label_Testing'])"
   ],
   "metadata": {
    "collapsed": false,
    "ExecuteTime": {
     "end_time": "2024-03-18T17:13:21.643805Z",
     "start_time": "2024-03-18T17:13:21.636671Z"
    }
   },
   "id": "379f85d03d2fd8a9",
   "execution_count": 7
  },
  {
   "cell_type": "code",
   "outputs": [],
   "source": [
    "d = Training_class1.shape[0]"
   ],
   "metadata": {
    "collapsed": false,
    "ExecuteTime": {
     "end_time": "2024-03-18T17:13:22.355609Z",
     "start_time": "2024-03-18T17:13:22.342765Z"
    }
   },
   "id": "14c02cae7fccdf37",
   "execution_count": 8
  },
  {
   "cell_type": "code",
   "outputs": [],
   "source": [
    "#计算先验概率\n",
    "Pw1 = len(Training_class1.T) / (len(Training_class1.T) + len(Training_class2.T))\n",
    "Pw2 = 1 - Pw1"
   ],
   "metadata": {
    "collapsed": false,
    "ExecuteTime": {
     "end_time": "2024-03-18T17:13:22.912440Z",
     "start_time": "2024-03-18T17:13:22.897736Z"
    }
   },
   "id": "ef6c0b2faf92425c",
   "execution_count": 9
  },
  {
   "cell_type": "code",
   "outputs": [],
   "source": [
    "#求期望\n",
    "Mean1 = np.mean(Training_class1,axis=1)\n",
    "Mean2 = np.mean(Training_class2,axis=1)"
   ],
   "metadata": {
    "collapsed": false,
    "ExecuteTime": {
     "end_time": "2024-03-18T17:13:23.620681Z",
     "start_time": "2024-03-18T17:13:23.614353Z"
    }
   },
   "id": "39423167bbac8962",
   "execution_count": 10
  },
  {
   "cell_type": "code",
   "outputs": [],
   "source": [
    "#欧氏距离比较\n",
    "label = []\n",
    "for i in Testing.T:\n",
    "    d1 = np.dot((i - Mean1),(i - Mean1).T)\n",
    "    d2 = np.dot((i - Mean2),(i - Mean2).T)\n",
    "    if d1 > d2:\n",
    "        label.append(2)\n",
    "    else:\n",
    "        label.append(1)"
   ],
   "metadata": {
    "collapsed": false,
    "ExecuteTime": {
     "end_time": "2024-03-18T17:13:24.139661Z",
     "start_time": "2024-03-18T17:13:24.091886Z"
    }
   },
   "id": "fc2d36bf50208c12",
   "execution_count": 11
  },
  {
   "cell_type": "code",
   "outputs": [],
   "source": [
    "res = []\n",
    "for answer,result in zip(Label_Testing.T,label):\n",
    "    if answer == result:\n",
    "        res.append(1)\n",
    "    else:\n",
    "        res.append(0)\n"
   ],
   "metadata": {
    "collapsed": false,
    "ExecuteTime": {
     "end_time": "2024-03-18T17:13:25.002224Z",
     "start_time": "2024-03-18T17:13:24.980880Z"
    }
   },
   "id": "360e719e3976a3d4",
   "execution_count": 12
  },
  {
   "cell_type": "code",
   "outputs": [
    {
     "name": "stdout",
     "output_type": "stream",
     "text": [
      "正确率为0.99853\n"
     ]
    }
   ],
   "source": [
    "print(\"正确率为%.5f\"%(res.count(1)/len(res)))"
   ],
   "metadata": {
    "collapsed": false,
    "ExecuteTime": {
     "end_time": "2024-03-18T17:13:25.553088Z",
     "start_time": "2024-03-18T17:13:25.527485Z"
    }
   },
   "id": "a7eb369f3d4c2c9b",
   "execution_count": 13
  },
  {
   "cell_type": "code",
   "outputs": [],
   "source": [
    "#协方差矩阵\n",
    "cm1 = np.zeros((Training_class1.shape[0],Training_class1.shape[0]))\n",
    "for i in Training_class1.T:\n",
    "    d = (i-Mean1).reshape(i.shape[0],1)\n",
    "    cm1 += d * d.T\n",
    "cm2 = np.zeros((Training_class2.shape[0],Training_class2.shape[0]))\n",
    "for i in Training_class2.T:\n",
    "    d = (i-Mean2).reshape(i.shape[0],1)\n",
    "    cm2 += np.outer(d,d.T)\n",
    "cm1 = cm1 / Training_class1.shape[1]\n",
    "cm2 = cm2 / Training_class2.shape[1]\n",
    "    "
   ],
   "metadata": {
    "collapsed": false
   },
   "id": "3a242252102c0dd4",
   "execution_count": null
  },
  {
   "cell_type": "code",
   "outputs": [],
   "source": [
    "#马氏距离比较\n",
    "label = []\n",
    "for i in Testing.T:\n",
    "    d1 = np.dot(np.dot((i - Mean1),np.linalg.inv(cm1)),(i - Mean1).T)\n",
    "    d2 = np.dot(np.dot((i - Mean2),np.linalg.inv(cm2)),(i - Mean2).T)\n",
    "    if d1 > d2:\n",
    "        label.append(2)\n",
    "    else:\n",
    "        label.append(1)"
   ],
   "metadata": {
    "collapsed": false
   },
   "id": "140366cdc164cf96",
   "execution_count": null
  },
  {
   "cell_type": "code",
   "outputs": [],
   "source": [
    "res = []\n",
    "for answer,result in zip(Label_Testing.T,label):\n",
    "    if answer == result:\n",
    "        res.append(1)\n",
    "    else:\n",
    "        res.append(0)"
   ],
   "metadata": {
    "collapsed": false
   },
   "id": "a8f10a3328ab46ad",
   "execution_count": null
  },
  {
   "cell_type": "code",
   "outputs": [],
   "source": [
    "print(\"正确率为%.5f\"%(res.count(1)/len(res)))"
   ],
   "metadata": {
    "collapsed": false
   },
   "id": "e2bdbb7b0da6c8d3",
   "execution_count": null
  },
  {
   "cell_type": "code",
   "outputs": [],
   "source": [
    "#后验概率比较\n",
    "label = []\n",
    "for i in Testing.T:\n",
    "    gx1 = 1 / ((2 * np.pi) ** (d / 2) * np.linalg.det(cm1) ** (-0.5)) * np.exp(-0.5 * np.dot(np.dot((i - Mean1), np.linalg.inv(cm1)), (i - Mean1).T))\n",
    "    gx2 = 1 / ((2 * np.pi) ** (d / 2) * np.linalg.det(cm2) ** (-0.5)) * np.exp(-0.5 * np.dot(np.dot((i - Mean2), np.linalg.inv(cm2)), (i - Mean2).T))\n",
    "    if gx1 > gx2:\n",
    "        label.append(1)\n",
    "    else:\n",
    "        label.append(2)"
   ],
   "metadata": {
    "collapsed": false
   },
   "id": "fc60ddbb9a8f912b",
   "execution_count": null
  },
  {
   "cell_type": "code",
   "outputs": [],
   "source": [
    "res = []\n",
    "for answer,result in zip(Label_Testing.T,label):\n",
    "    if answer == result:\n",
    "        res.append(1)\n",
    "    else:\n",
    "        res.append(0)"
   ],
   "metadata": {
    "collapsed": false
   },
   "id": "a0b2e5034d4575e6",
   "execution_count": null
  },
  {
   "cell_type": "code",
   "outputs": [],
   "source": [
    "print(\"正确率为%.5f\"%(res.count(1)/len(res)))"
   ],
   "metadata": {
    "collapsed": false
   },
   "id": "c07d326ab548d02d",
   "execution_count": null
  },
  {
   "cell_type": "code",
   "outputs": [],
   "source": [
    "#似然比\n",
    "label = []\n",
    "lambdaa = Pw2 / Pw1\n",
    "for i in Testing.T:\n",
    "    gx1 = 1 / ((2 * np.pi) ** (d / 2) * np.linalg.det(cm1) ** (-0.5)) * np.exp(-0.5 * np.dot(np.dot((i - Mean1), np.linalg.inv(cm1)), (i - Mean1).T))\n",
    "    gx2 = 1 / ((2 * np.pi) ** (d / 2) * np.linalg.det(cm2) ** (-0.5)) * np.exp(-0.5 * np.dot(np.dot((i - Mean2), np.linalg.inv(cm2)), (i - Mean2).T))\n",
    "    if gx2 == 0:\n",
    "        label.append(1)\n",
    "    else:\n",
    "        if gx1/gx2 > lambdaa:\n",
    "            label.append(1)\n",
    "        else:\n",
    "            label.append(2)"
   ],
   "metadata": {
    "collapsed": false,
    "ExecuteTime": {
     "end_time": "2024-03-18T09:14:37.868615Z",
     "start_time": "2024-03-18T09:14:33.152659Z"
    }
   },
   "id": "d1369d252aae7dab",
   "execution_count": 80
  },
  {
   "cell_type": "code",
   "outputs": [],
   "source": [
    "res = []\n",
    "for answer,result in zip(Label_Testing.T,label):\n",
    "    if answer == result:\n",
    "        res.append(1)\n",
    "    else:\n",
    "        res.append(0)"
   ],
   "metadata": {
    "collapsed": false,
    "ExecuteTime": {
     "end_time": "2024-03-18T09:14:39.027801Z",
     "start_time": "2024-03-18T09:14:39.002901Z"
    }
   },
   "id": "17d40a4bbd52b3d8",
   "execution_count": 81
  },
  {
   "cell_type": "code",
   "outputs": [
    {
     "name": "stdout",
     "output_type": "stream",
     "text": [
      "正确率为1.00000\n"
     ]
    }
   ],
   "source": [
    "print(\"正确率为%.5f\"%(res.count(1)/len(res)))"
   ],
   "metadata": {
    "collapsed": false,
    "ExecuteTime": {
     "end_time": "2024-03-18T09:14:44.235474Z",
     "start_time": "2024-03-18T09:14:44.226453Z"
    }
   },
   "id": "953128a4d3166b59",
   "execution_count": 82
  },
  {
   "cell_type": "code",
   "outputs": [],
   "source": [
    "#比较复杂的gx\n",
    "\n",
    "label = []\n",
    "lambdaa = Pw2 / Pw1\n",
    "for i in Testing.T:\n",
    "    gx1 = -0.5 * math.log(np.linalg.det(cm1)) - 0.5 * np.dot(np.dot((i - Mean1), np.linalg.inv(cm1)), (i - Mean1).T) + math.log(Pw1)\n",
    "    gx2 = -0.5 * math.log(np.linalg.det(cm2)) - 0.5 * np.dot(np.dot((i - Mean2), np.linalg.inv(cm2)), (i - Mean2).T) + math.log(Pw2)\n",
    "    if gx1 > gx2:\n",
    "        label.append(1)\n",
    "    else:\n",
    "        label.append(2)\n"
   ],
   "metadata": {
    "collapsed": false,
    "ExecuteTime": {
     "end_time": "2024-03-18T09:20:43.451675Z",
     "start_time": "2024-03-18T09:20:38.460445Z"
    }
   },
   "id": "1aee5773c434df33",
   "execution_count": 89
  },
  {
   "cell_type": "code",
   "outputs": [],
   "source": [
    "res = []\n",
    "for answer,result in zip(Label_Testing.T,label):\n",
    "    if answer == result:\n",
    "        res.append(1)\n",
    "    else:\n",
    "        res.append(0)"
   ],
   "metadata": {
    "collapsed": false,
    "ExecuteTime": {
     "end_time": "2024-03-18T09:20:43.468416Z",
     "start_time": "2024-03-18T09:20:43.453672Z"
    }
   },
   "id": "61cbacbcecdb912f",
   "execution_count": 90
  },
  {
   "cell_type": "code",
   "outputs": [
    {
     "name": "stdout",
     "output_type": "stream",
     "text": [
      "正确率为1.00000\n"
     ]
    }
   ],
   "source": [
    "print(\"正确率为%.5f\"%(res.count(1)/len(res)))"
   ],
   "metadata": {
    "collapsed": false,
    "ExecuteTime": {
     "end_time": "2024-03-18T09:20:43.485348Z",
     "start_time": "2024-03-18T09:20:43.470415Z"
    }
   },
   "id": "d5bf34add9705e89",
   "execution_count": 91
  },
  {
   "cell_type": "markdown",
   "source": [
    "很好的jupyter notebook 让我的大脑旋转"
   ],
   "metadata": {
    "collapsed": false
   },
   "id": "4f1638e853dbb062"
  },
  {
   "cell_type": "markdown",
   "source": [],
   "metadata": {
    "collapsed": false
   },
   "id": "97a75f94c2c0d7e2"
  }
 ],
 "metadata": {
  "kernelspec": {
   "display_name": "Python 3",
   "language": "python",
   "name": "python3"
  },
  "language_info": {
   "codemirror_mode": {
    "name": "ipython",
    "version": 2
   },
   "file_extension": ".py",
   "mimetype": "text/x-python",
   "name": "python",
   "nbconvert_exporter": "python",
   "pygments_lexer": "ipython2",
   "version": "2.7.6"
  }
 },
 "nbformat": 4,
 "nbformat_minor": 5
}
