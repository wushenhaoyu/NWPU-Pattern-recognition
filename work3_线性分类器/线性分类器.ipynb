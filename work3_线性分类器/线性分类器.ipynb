{
 "cells": [
  {
   "cell_type": "code",
   "execution_count": 1,
   "id": "initial_id",
   "metadata": {
    "collapsed": true,
    "ExecuteTime": {
     "end_time": "2024-03-26T05:07:50.624640Z",
     "start_time": "2024-03-26T05:07:49.665055Z"
    }
   },
   "outputs": [],
   "source": [
    "import numpy as np\n",
    "import scipy.io as sio"
   ]
  },
  {
   "cell_type": "code",
   "outputs": [],
   "source": [
    "data = sio.loadmat('2-Class Problem.mat')"
   ],
   "metadata": {
    "collapsed": false,
    "ExecuteTime": {
     "end_time": "2024-03-26T05:07:57.385454Z",
     "start_time": "2024-03-26T05:07:57.378735Z"
    }
   },
   "id": "845118c63618ddd1",
   "execution_count": 4
  },
  {
   "cell_type": "code",
   "outputs": [
    {
     "name": "stdout",
     "output_type": "stream",
     "text": [
      "dict_keys(['__header__', '__version__', '__globals__', 'Training_class1', 'Training_class2', 'Testing', 'Label_Testing'])\n"
     ]
    }
   ],
   "source": [
    "print(data.keys())"
   ],
   "metadata": {
    "collapsed": false,
    "ExecuteTime": {
     "end_time": "2024-03-26T05:07:59.655661Z",
     "start_time": "2024-03-26T05:07:59.651399Z"
    }
   },
   "id": "5af58ad3d3f10d2e",
   "execution_count": 5
  },
  {
   "cell_type": "code",
   "outputs": [],
   "source": [
    "Training_class1 = np.array(data['Training_class1'])\n",
    "Training_class2 = np.array(data['Training_class2'])\n",
    "Testing = np.array(data['Testing'])\n",
    "Label_Testing = np.array(data['Label_Testing'])"
   ],
   "metadata": {
    "collapsed": false,
    "ExecuteTime": {
     "end_time": "2024-03-26T05:08:01.116611Z",
     "start_time": "2024-03-26T05:08:01.110519Z"
    }
   },
   "id": "c3e6e88fb1346493",
   "execution_count": 6
  },
  {
   "cell_type": "code",
   "outputs": [],
   "source": [
    "mean1 = np.mean(Training_class1,axis=1)\n",
    "mean2 = np.mean(Training_class2,axis=1)\n",
    "Sb = np.dot((mean1-mean2).reshape(-1,1),(mean1-mean2).T.reshape(1,-1))\n",
    "Sw1 = np.zeros((mean1.shape[0],mean1.shape[0]))\n",
    "for i in Training_class1.T:\n",
    "   Sw1 = np.dot((i-mean1).reshape(-1,1),(i-mean1).reshape(1,-1))\n",
    "Sw2 = np.zeros((mean2.shape[0],mean2.shape[0]))\n",
    "for i in Training_class2.T:\n",
    "   Sw2 = np.dot((i-mean2).reshape(-1,1),(i-mean2).reshape(1,-1))\n",
    "Sw = Sw1 + Sw2\n",
    "w_star =  np.dot(np.linalg.inv(Sw),mean1 - mean2)\n"
   ],
   "metadata": {
    "collapsed": false,
    "ExecuteTime": {
     "end_time": "2024-03-26T05:08:04.477480Z",
     "start_time": "2024-03-26T05:08:04.352108Z"
    }
   },
   "id": "145070282d3e96f8",
   "execution_count": 7
  },
  {
   "cell_type": "markdown",
   "source": [],
   "metadata": {
    "collapsed": false
   },
   "id": "7edccee7261cc857"
  },
  {
   "cell_type": "code",
   "outputs": [],
   "source": [
    "lam = (np.dot(w_star.T,mean1.reshape(-1,1)) +  np.dot(w_star.T,mean2.reshape(-1,1))) / 2"
   ],
   "metadata": {
    "collapsed": false,
    "ExecuteTime": {
     "end_time": "2024-03-26T05:08:10.921376Z",
     "start_time": "2024-03-26T05:08:10.916864Z"
    }
   },
   "id": "87889589ad691e64",
   "execution_count": 8
  },
  {
   "cell_type": "code",
   "outputs": [],
   "source": [
    "res = []\n",
    "for i,label in zip(Testing.T,Label_Testing.T):\n",
    "    if np.dot(w_star.T,i) > lam:\n",
    "        if label == 1:\n",
    "            res.append(1)\n",
    "        else:\n",
    "            res.append(0)\n",
    "    else:\n",
    "        if label == 2:\n",
    "            res.append(0)\n",
    "        else:\n",
    "            res.append(1)"
   ],
   "metadata": {
    "collapsed": false,
    "ExecuteTime": {
     "end_time": "2024-03-26T05:08:13.073618Z",
     "start_time": "2024-03-26T05:08:13.059914Z"
    }
   },
   "id": "540ba385f76d6e80",
   "execution_count": 9
  },
  {
   "cell_type": "code",
   "outputs": [
    {
     "name": "stdout",
     "output_type": "stream",
     "text": [
      "0.4743401759530792\n"
     ]
    }
   ],
   "source": [
    "print(res.count(1)/len(res))"
   ],
   "metadata": {
    "collapsed": false,
    "ExecuteTime": {
     "end_time": "2024-03-20T12:52:30.468767Z",
     "start_time": "2024-03-20T12:52:30.466160Z"
    }
   },
   "id": "14d57bb71309044d",
   "execution_count": 34
  }
 ],
 "metadata": {
  "kernelspec": {
   "display_name": "Python 3",
   "language": "python",
   "name": "python3"
  },
  "language_info": {
   "codemirror_mode": {
    "name": "ipython",
    "version": 2
   },
   "file_extension": ".py",
   "mimetype": "text/x-python",
   "name": "python",
   "nbconvert_exporter": "python",
   "pygments_lexer": "ipython2",
   "version": "2.7.6"
  }
 },
 "nbformat": 4,
 "nbformat_minor": 5
}
