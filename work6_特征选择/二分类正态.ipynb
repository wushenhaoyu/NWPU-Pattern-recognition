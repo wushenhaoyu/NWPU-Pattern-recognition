{
 "cells": [
  {
   "cell_type": "code",
   "execution_count": 21,
   "id": "efc92d46",
   "metadata": {
    "ExecuteTime": {
     "end_time": "2024-04-11T15:01:16.296217Z",
     "start_time": "2024-04-11T15:01:16.264934Z"
    }
   },
   "outputs": [],
   "source": [
    "import scipy.io as sio\n",
    "import numpy as np\n",
    "data = sio.loadmat('2-Class Problem.mat')"
   ]
  },
  {
   "cell_type": "code",
   "execution_count": 22,
   "id": "5177a06f",
   "metadata": {
    "ExecuteTime": {
     "end_time": "2024-04-11T15:01:16.607105Z",
     "start_time": "2024-04-11T15:01:16.599798Z"
    }
   },
   "outputs": [
    {
     "name": "stdout",
     "output_type": "stream",
     "text": [
      "dict_keys(['__header__', '__version__', '__globals__', 'Training_class1', 'Training_class2', 'Testing', 'Label_Testing'])\n"
     ]
    }
   ],
   "source": [
    "print(data.keys())"
   ]
  },
  {
   "cell_type": "markdown",
   "id": "4b4d8ea7",
   "metadata": {},
   "source": [
    "    以下为代码："
   ]
  },
  {
   "cell_type": "code",
   "execution_count": 23,
   "id": "6b630d08",
   "metadata": {
    "ExecuteTime": {
     "end_time": "2024-04-11T15:01:18.098878Z",
     "start_time": "2024-04-11T15:01:18.092620Z"
    }
   },
   "outputs": [],
   "source": [
    "class1_data = np.array(data['Training_class1']).T\n",
    "class2_data = np.array(data['Training_class2']).T\n",
    "data = np.vstack((class1_data,class2_data))"
   ]
  },
  {
   "cell_type": "markdown",
   "source": [
    "1.中心化"
   ],
   "metadata": {
    "collapsed": false
   },
   "id": "4e5e242f0ffacb88"
  },
  {
   "cell_type": "code",
   "outputs": [],
   "source": [
    "def zeroMean(dataMat):\n",
    "\tmeanValue = np.mean(dataMat,axis=0)\n",
    "\tnewDataMat = dataMat - meanValue\n",
    "\treturn newDataMat,meanValue"
   ],
   "metadata": {
    "collapsed": false,
    "ExecuteTime": {
     "end_time": "2024-04-11T15:01:21.851845Z",
     "start_time": "2024-04-11T15:01:21.843998Z"
    }
   },
   "id": "6fddd32be4bc8c46",
   "execution_count": 24
  },
  {
   "cell_type": "code",
   "outputs": [],
   "source": [
    "def eigen(newDataMat):\n",
    "\tX_T = np.transpose(newDataMat)\n",
    "\tCM = np.dot(X,X_T)\n",
    "\teigenvValues,eigenMat=np.linalg.eig(np.mat(CM))\n",
    "    return eigenvValues,eigenMat\n"
   ],
   "metadata": {
    "collapsed": false,
    "ExecuteTime": {
     "end_time": "2024-04-11T14:54:06.510052Z",
     "start_time": "2024-04-11T14:54:06.504051Z"
    }
   },
   "id": "80d197f7b7ec51f8",
   "execution_count": 17
  },
  {
   "cell_type": "code",
   "outputs": [],
   "source": [
    "data = (data - mean)"
   ],
   "metadata": {
    "collapsed": false,
    "ExecuteTime": {
     "end_time": "2024-04-11T14:54:15.744974Z",
     "start_time": "2024-04-11T14:54:15.739885Z"
    }
   },
   "id": "86c544b8179a0086",
   "execution_count": 18
  },
  {
   "cell_type": "code",
   "outputs": [],
   "source": [
    "cm = np.dot(data,data.T)"
   ],
   "metadata": {
    "collapsed": false,
    "ExecuteTime": {
     "end_time": "2024-04-11T14:54:33.448428Z",
     "start_time": "2024-04-11T14:54:33.321591Z"
    }
   },
   "id": "b6171c55718b53c0",
   "execution_count": 19
  },
  {
   "cell_type": "code",
   "outputs": [],
   "source": [
    "eigenvValues,eigenMat=np.linalg.eig(np.mat(cm))"
   ],
   "metadata": {
    "collapsed": false,
    "ExecuteTime": {
     "end_time": "2024-04-11T14:56:38.310677Z",
     "start_time": "2024-04-11T14:56:34.087355Z"
    }
   },
   "id": "4b9a22c76e7aad53",
   "execution_count": 20
  },
  {
   "cell_type": "code",
   "outputs": [],
   "source": [
    "sortEV = np.argsort(eigenValues)"
   ],
   "metadata": {
    "collapsed": false
   },
   "id": "f30389e8845bee2a"
  }
 ],
 "metadata": {
  "kernelspec": {
   "display_name": "Python 3 (ipykernel)",
   "language": "python",
   "name": "python3"
  },
  "language_info": {
   "codemirror_mode": {
    "name": "ipython",
    "version": 3
   },
   "file_extension": ".py",
   "mimetype": "text/x-python",
   "name": "python",
   "nbconvert_exporter": "python",
   "pygments_lexer": "ipython3",
   "version": "3.11.5"
  }
 },
 "nbformat": 4,
 "nbformat_minor": 5
}
