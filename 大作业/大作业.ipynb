{
 "cells": [
  {
   "cell_type": "code",
   "execution_count": 43,
   "id": "initial_id",
   "metadata": {
    "collapsed": true,
    "ExecuteTime": {
     "end_time": "2024-04-23T03:59:50.651521Z",
     "start_time": "2024-04-23T03:59:50.642718Z"
    }
   },
   "outputs": [],
   "source": [
    "import numpy as np\n",
    "import matplotlib.pyplot as plt\n",
    "import pandas as pd\n",
    "from sklearn.model_selection import train_test_split"
   ]
  },
  {
   "cell_type": "code",
   "outputs": [],
   "source": [
    "Training_data = pd.read_csv('Blood_samples_dataset_balanced_2(f).csv')\n",
    "Test_data = pd.read_csv('blood_samples_dataset_test.csv')"
   ],
   "metadata": {
    "collapsed": false,
    "ExecuteTime": {
     "end_time": "2024-04-23T03:59:51.046297Z",
     "start_time": "2024-04-23T03:59:50.995997Z"
    }
   },
   "id": "770953cd8802b6d1",
   "execution_count": 44
  },
  {
   "cell_type": "code",
   "outputs": [
    {
     "data": {
      "text/plain": "       Glucose  Cholesterol  Hemoglobin  Platelets  White Blood Cells  \\\n0     0.739597     0.650198    0.713631   0.868491           0.687433   \n1     0.121786     0.023058    0.944893   0.905372           0.507711   \n2     0.452539     0.116135    0.544560   0.400640           0.294538   \n3     0.136609     0.015605    0.419957   0.191487           0.081168   \n4     0.176737     0.752220    0.971779   0.785286           0.443880   \n...        ...          ...         ...        ...                ...   \n2346  0.012956     0.336925    0.451218   0.175006           0.734664   \n2347  0.407101     0.124738    0.983306   0.663867           0.361113   \n2348  0.344356     0.783918    0.582171   0.996841           0.065363   \n2349  0.351722     0.014278    0.898615   0.167550           0.727148   \n2350  0.032726     0.053596    0.102633   0.221356           0.153956   \n\n      Red Blood Cells  Hematocrit  Mean Corpuscular Volume  \\\n0            0.529895    0.290006                 0.631045   \n1            0.403033    0.164216                 0.307553   \n2            0.382021    0.625267                 0.295122   \n3            0.166214    0.073293                 0.668719   \n4            0.439851    0.894991                 0.442159   \n...               ...         ...                      ...   \n2346         0.382770    0.656463                 0.177502   \n2347         0.663716    0.232516                 0.341056   \n2348         0.242885    0.658851                 0.543017   \n2349         0.046091    0.900434                 0.136227   \n2350         0.216573    0.312577                 0.608940   \n\n      Mean Corpuscular Hemoglobin  Mean Corpuscular Hemoglobin Concentration  \\\n0                        0.001328                                   0.795829   \n1                        0.207938                                   0.505562   \n2                        0.868369                                   0.026808   \n3                        0.125447                                   0.501051   \n4                        0.257288                                   0.805987   \n...                           ...                                        ...   \n2346                     0.808162                                   0.684499   \n2347                     0.847441                                   0.309766   \n2348                     0.290106                                   0.838722   \n2349                     0.134361                                   0.279219   \n2350                     0.486174                                   0.450700   \n\n      ...     HbA1c  LDL Cholesterol  HDL Cholesterol       ALT       AST  \\\n0     ...  0.502665         0.215560         0.512941  0.064187  0.610827   \n1     ...  0.856810         0.652465         0.106961  0.942549  0.344261   \n2     ...  0.466795         0.387332         0.421763  0.007186  0.506918   \n3     ...  0.016256         0.040137         0.826721  0.265415  0.594148   \n4     ...  0.429431         0.146294         0.221574  0.015280  0.567115   \n...   ...       ...              ...              ...       ...       ...   \n2346  ...  0.670665         0.311568         0.595083  0.155866  0.885812   \n2347  ...  0.491185         0.701914         0.218104  0.790341  0.570902   \n2348  ...  0.141738         0.155871         0.473638  0.250535  0.387197   \n2349  ...  0.570553         0.171245         0.858352  0.362012  0.290984   \n2350  ...  0.188750         0.331887         0.562622  0.680462  0.099538   \n\n      Heart Rate  Creatinine  Troponin  C-reactive Protein   Disease  \n0       0.939485    0.095512  0.465957            0.769230   Healthy  \n1       0.666368    0.659060  0.816982            0.401166  Diabetes  \n2       0.431704    0.417295  0.799074            0.779208  Thalasse  \n3       0.225756    0.490349  0.637061            0.354094    Anemia  \n4       0.841412    0.153350  0.794008            0.094970  Thalasse  \n...          ...         ...       ...                 ...       ...  \n2346    0.636125    0.132226  0.716519            0.006121  Diabetes  \n2347    0.339125    0.310964  0.310900            0.622403  Thalasse  \n2348    0.344728    0.606719  0.395145            0.134021    Anemia  \n2349    0.996873    0.882164  0.411158            0.146255  Diabetes  \n2350    0.982893    0.437285  0.288961            0.709262    Anemia  \n\n[2351 rows x 25 columns]",
      "text/html": "<div>\n<style scoped>\n    .dataframe tbody tr th:only-of-type {\n        vertical-align: middle;\n    }\n\n    .dataframe tbody tr th {\n        vertical-align: top;\n    }\n\n    .dataframe thead th {\n        text-align: right;\n    }\n</style>\n<table border=\"1\" class=\"dataframe\">\n  <thead>\n    <tr style=\"text-align: right;\">\n      <th></th>\n      <th>Glucose</th>\n      <th>Cholesterol</th>\n      <th>Hemoglobin</th>\n      <th>Platelets</th>\n      <th>White Blood Cells</th>\n      <th>Red Blood Cells</th>\n      <th>Hematocrit</th>\n      <th>Mean Corpuscular Volume</th>\n      <th>Mean Corpuscular Hemoglobin</th>\n      <th>Mean Corpuscular Hemoglobin Concentration</th>\n      <th>...</th>\n      <th>HbA1c</th>\n      <th>LDL Cholesterol</th>\n      <th>HDL Cholesterol</th>\n      <th>ALT</th>\n      <th>AST</th>\n      <th>Heart Rate</th>\n      <th>Creatinine</th>\n      <th>Troponin</th>\n      <th>C-reactive Protein</th>\n      <th>Disease</th>\n    </tr>\n  </thead>\n  <tbody>\n    <tr>\n      <th>0</th>\n      <td>0.739597</td>\n      <td>0.650198</td>\n      <td>0.713631</td>\n      <td>0.868491</td>\n      <td>0.687433</td>\n      <td>0.529895</td>\n      <td>0.290006</td>\n      <td>0.631045</td>\n      <td>0.001328</td>\n      <td>0.795829</td>\n      <td>...</td>\n      <td>0.502665</td>\n      <td>0.215560</td>\n      <td>0.512941</td>\n      <td>0.064187</td>\n      <td>0.610827</td>\n      <td>0.939485</td>\n      <td>0.095512</td>\n      <td>0.465957</td>\n      <td>0.769230</td>\n      <td>Healthy</td>\n    </tr>\n    <tr>\n      <th>1</th>\n      <td>0.121786</td>\n      <td>0.023058</td>\n      <td>0.944893</td>\n      <td>0.905372</td>\n      <td>0.507711</td>\n      <td>0.403033</td>\n      <td>0.164216</td>\n      <td>0.307553</td>\n      <td>0.207938</td>\n      <td>0.505562</td>\n      <td>...</td>\n      <td>0.856810</td>\n      <td>0.652465</td>\n      <td>0.106961</td>\n      <td>0.942549</td>\n      <td>0.344261</td>\n      <td>0.666368</td>\n      <td>0.659060</td>\n      <td>0.816982</td>\n      <td>0.401166</td>\n      <td>Diabetes</td>\n    </tr>\n    <tr>\n      <th>2</th>\n      <td>0.452539</td>\n      <td>0.116135</td>\n      <td>0.544560</td>\n      <td>0.400640</td>\n      <td>0.294538</td>\n      <td>0.382021</td>\n      <td>0.625267</td>\n      <td>0.295122</td>\n      <td>0.868369</td>\n      <td>0.026808</td>\n      <td>...</td>\n      <td>0.466795</td>\n      <td>0.387332</td>\n      <td>0.421763</td>\n      <td>0.007186</td>\n      <td>0.506918</td>\n      <td>0.431704</td>\n      <td>0.417295</td>\n      <td>0.799074</td>\n      <td>0.779208</td>\n      <td>Thalasse</td>\n    </tr>\n    <tr>\n      <th>3</th>\n      <td>0.136609</td>\n      <td>0.015605</td>\n      <td>0.419957</td>\n      <td>0.191487</td>\n      <td>0.081168</td>\n      <td>0.166214</td>\n      <td>0.073293</td>\n      <td>0.668719</td>\n      <td>0.125447</td>\n      <td>0.501051</td>\n      <td>...</td>\n      <td>0.016256</td>\n      <td>0.040137</td>\n      <td>0.826721</td>\n      <td>0.265415</td>\n      <td>0.594148</td>\n      <td>0.225756</td>\n      <td>0.490349</td>\n      <td>0.637061</td>\n      <td>0.354094</td>\n      <td>Anemia</td>\n    </tr>\n    <tr>\n      <th>4</th>\n      <td>0.176737</td>\n      <td>0.752220</td>\n      <td>0.971779</td>\n      <td>0.785286</td>\n      <td>0.443880</td>\n      <td>0.439851</td>\n      <td>0.894991</td>\n      <td>0.442159</td>\n      <td>0.257288</td>\n      <td>0.805987</td>\n      <td>...</td>\n      <td>0.429431</td>\n      <td>0.146294</td>\n      <td>0.221574</td>\n      <td>0.015280</td>\n      <td>0.567115</td>\n      <td>0.841412</td>\n      <td>0.153350</td>\n      <td>0.794008</td>\n      <td>0.094970</td>\n      <td>Thalasse</td>\n    </tr>\n    <tr>\n      <th>...</th>\n      <td>...</td>\n      <td>...</td>\n      <td>...</td>\n      <td>...</td>\n      <td>...</td>\n      <td>...</td>\n      <td>...</td>\n      <td>...</td>\n      <td>...</td>\n      <td>...</td>\n      <td>...</td>\n      <td>...</td>\n      <td>...</td>\n      <td>...</td>\n      <td>...</td>\n      <td>...</td>\n      <td>...</td>\n      <td>...</td>\n      <td>...</td>\n      <td>...</td>\n      <td>...</td>\n    </tr>\n    <tr>\n      <th>2346</th>\n      <td>0.012956</td>\n      <td>0.336925</td>\n      <td>0.451218</td>\n      <td>0.175006</td>\n      <td>0.734664</td>\n      <td>0.382770</td>\n      <td>0.656463</td>\n      <td>0.177502</td>\n      <td>0.808162</td>\n      <td>0.684499</td>\n      <td>...</td>\n      <td>0.670665</td>\n      <td>0.311568</td>\n      <td>0.595083</td>\n      <td>0.155866</td>\n      <td>0.885812</td>\n      <td>0.636125</td>\n      <td>0.132226</td>\n      <td>0.716519</td>\n      <td>0.006121</td>\n      <td>Diabetes</td>\n    </tr>\n    <tr>\n      <th>2347</th>\n      <td>0.407101</td>\n      <td>0.124738</td>\n      <td>0.983306</td>\n      <td>0.663867</td>\n      <td>0.361113</td>\n      <td>0.663716</td>\n      <td>0.232516</td>\n      <td>0.341056</td>\n      <td>0.847441</td>\n      <td>0.309766</td>\n      <td>...</td>\n      <td>0.491185</td>\n      <td>0.701914</td>\n      <td>0.218104</td>\n      <td>0.790341</td>\n      <td>0.570902</td>\n      <td>0.339125</td>\n      <td>0.310964</td>\n      <td>0.310900</td>\n      <td>0.622403</td>\n      <td>Thalasse</td>\n    </tr>\n    <tr>\n      <th>2348</th>\n      <td>0.344356</td>\n      <td>0.783918</td>\n      <td>0.582171</td>\n      <td>0.996841</td>\n      <td>0.065363</td>\n      <td>0.242885</td>\n      <td>0.658851</td>\n      <td>0.543017</td>\n      <td>0.290106</td>\n      <td>0.838722</td>\n      <td>...</td>\n      <td>0.141738</td>\n      <td>0.155871</td>\n      <td>0.473638</td>\n      <td>0.250535</td>\n      <td>0.387197</td>\n      <td>0.344728</td>\n      <td>0.606719</td>\n      <td>0.395145</td>\n      <td>0.134021</td>\n      <td>Anemia</td>\n    </tr>\n    <tr>\n      <th>2349</th>\n      <td>0.351722</td>\n      <td>0.014278</td>\n      <td>0.898615</td>\n      <td>0.167550</td>\n      <td>0.727148</td>\n      <td>0.046091</td>\n      <td>0.900434</td>\n      <td>0.136227</td>\n      <td>0.134361</td>\n      <td>0.279219</td>\n      <td>...</td>\n      <td>0.570553</td>\n      <td>0.171245</td>\n      <td>0.858352</td>\n      <td>0.362012</td>\n      <td>0.290984</td>\n      <td>0.996873</td>\n      <td>0.882164</td>\n      <td>0.411158</td>\n      <td>0.146255</td>\n      <td>Diabetes</td>\n    </tr>\n    <tr>\n      <th>2350</th>\n      <td>0.032726</td>\n      <td>0.053596</td>\n      <td>0.102633</td>\n      <td>0.221356</td>\n      <td>0.153956</td>\n      <td>0.216573</td>\n      <td>0.312577</td>\n      <td>0.608940</td>\n      <td>0.486174</td>\n      <td>0.450700</td>\n      <td>...</td>\n      <td>0.188750</td>\n      <td>0.331887</td>\n      <td>0.562622</td>\n      <td>0.680462</td>\n      <td>0.099538</td>\n      <td>0.982893</td>\n      <td>0.437285</td>\n      <td>0.288961</td>\n      <td>0.709262</td>\n      <td>Anemia</td>\n    </tr>\n  </tbody>\n</table>\n<p>2351 rows × 25 columns</p>\n</div>"
     },
     "execution_count": 45,
     "metadata": {},
     "output_type": "execute_result"
    }
   ],
   "source": [
    "Training_data"
   ],
   "metadata": {
    "collapsed": false,
    "ExecuteTime": {
     "end_time": "2024-04-23T03:59:51.401601Z",
     "start_time": "2024-04-23T03:59:51.357274Z"
    }
   },
   "id": "177533880af28ee8",
   "execution_count": 45
  },
  {
   "cell_type": "code",
   "outputs": [],
   "source": [
    "Training_data = Training_data.dropna()"
   ],
   "metadata": {
    "collapsed": false,
    "ExecuteTime": {
     "end_time": "2024-04-23T03:59:52.466723Z",
     "start_time": "2024-04-23T03:59:52.459162Z"
    }
   },
   "id": "41549ea83b5d83cc",
   "execution_count": 46
  },
  {
   "cell_type": "code",
   "outputs": [],
   "source": [
    "Training_data = pd.get_dummies(Training_data, columns=['Disease'])\n",
    "Test_data = pd.get_dummies(Test_data,columns=['Disease'])"
   ],
   "metadata": {
    "collapsed": false,
    "ExecuteTime": {
     "end_time": "2024-04-23T03:59:53.058543Z",
     "start_time": "2024-04-23T03:59:53.031212Z"
    }
   },
   "id": "4cf8861d34f8b795",
   "execution_count": 47
  },
  {
   "cell_type": "code",
   "outputs": [
    {
     "data": {
      "text/plain": "      Glucose  Cholesterol  Hemoglobin  Platelets  White Blood Cells  \\\n0    0.001827     0.033693    0.114755   0.997927           0.562604   \n1    0.436679     0.972653    0.084998   0.180909           0.675736   \n2    0.545697     0.324815    0.584467   0.475748           0.558596   \n3    0.172994     0.050351    0.736000   0.782022           0.069435   \n4    0.758534     0.739968    0.597868   0.772683           0.875720   \n..        ...          ...         ...        ...                ...   \n481  0.985163     0.412960    0.529993   0.263765           0.431288   \n482  0.581914     0.629325    0.491644   0.901473           0.347797   \n483  0.066669     0.404558    0.591041   0.228401           0.127461   \n484  0.901444     0.430680    0.243853   0.825551           0.493884   \n485  0.877912     0.597809    0.730440   0.462307           0.498438   \n\n     Red Blood Cells  Hematocrit  Mean Corpuscular Volume  \\\n0           0.866499    0.578042                 0.914615   \n1           0.563889    0.798382                 0.670361   \n2           0.661007    0.934056                 0.381782   \n3           0.085219    0.032907                 0.460619   \n4           0.860265    0.486189                 0.486686   \n..               ...         ...                      ...   \n481         0.198882    0.581289                 0.701192   \n482         0.633286    0.698114                 0.516947   \n483         0.026670    0.847444                 0.279740   \n484         0.726299    0.660930                 0.445560   \n485         0.792822    0.976056                 0.883937   \n\n     Mean Corpuscular Hemoglobin  Mean Corpuscular Hemoglobin Concentration  \\\n0                       0.026864                                   0.038641   \n1                       0.376092                                   0.184890   \n2                       0.500342                                   0.531829   \n3                       0.785448                                   0.491495   \n4                       0.621048                                   0.191756   \n..                           ...                                        ...   \n481                     0.249410                                   0.246893   \n482                     0.674259                                   0.798153   \n483                     0.575425                                   0.156438   \n484                     0.349782                                   0.343069   \n485                     0.202147                                   0.930649   \n\n     ...  Heart Rate  Creatinine  Troponin  C-reactive Protein  \\\n0    ...    0.652733    0.788235  0.054788            0.031313   \n1    ...    0.574425    0.047025  0.607985            0.594123   \n2    ...    0.855740    0.551124  0.413294            0.070909   \n3    ...    0.324600    0.499504  0.436662            0.242766   \n4    ...    0.804910    0.571119  0.188368            0.750848   \n..   ...         ...         ...       ...                 ...   \n481  ...    0.015051    0.442730  0.196986            0.816038   \n482  ...    0.825194    0.777866  0.415987            0.842804   \n483  ...    0.559993    0.795478  0.669925            0.124874   \n484  ...    0.938355    0.463381  0.862921            0.658526   \n485  ...    0.016738    0.104687  0.055181            0.049341   \n\n     Disease_Anemia  Disease_Diabetes  Disease_Healthy  Disease_Heart Di  \\\n0             False             False            False             False   \n1             False              True            False             False   \n2             False             False            False              True   \n3             False              True            False             False   \n4             False             False            False              True   \n..              ...               ...              ...               ...   \n481           False              True            False             False   \n482           False             False            False              True   \n483            True             False            False             False   \n484           False              True            False             False   \n485           False              True            False             False   \n\n     Disease_Thalasse  Disease_Thromboc  \n0                True             False  \n1               False             False  \n2               False             False  \n3               False             False  \n4               False             False  \n..                ...               ...  \n481             False             False  \n482             False             False  \n483             False             False  \n484             False             False  \n485             False             False  \n\n[486 rows x 30 columns]",
      "text/html": "<div>\n<style scoped>\n    .dataframe tbody tr th:only-of-type {\n        vertical-align: middle;\n    }\n\n    .dataframe tbody tr th {\n        vertical-align: top;\n    }\n\n    .dataframe thead th {\n        text-align: right;\n    }\n</style>\n<table border=\"1\" class=\"dataframe\">\n  <thead>\n    <tr style=\"text-align: right;\">\n      <th></th>\n      <th>Glucose</th>\n      <th>Cholesterol</th>\n      <th>Hemoglobin</th>\n      <th>Platelets</th>\n      <th>White Blood Cells</th>\n      <th>Red Blood Cells</th>\n      <th>Hematocrit</th>\n      <th>Mean Corpuscular Volume</th>\n      <th>Mean Corpuscular Hemoglobin</th>\n      <th>Mean Corpuscular Hemoglobin Concentration</th>\n      <th>...</th>\n      <th>Heart Rate</th>\n      <th>Creatinine</th>\n      <th>Troponin</th>\n      <th>C-reactive Protein</th>\n      <th>Disease_Anemia</th>\n      <th>Disease_Diabetes</th>\n      <th>Disease_Healthy</th>\n      <th>Disease_Heart Di</th>\n      <th>Disease_Thalasse</th>\n      <th>Disease_Thromboc</th>\n    </tr>\n  </thead>\n  <tbody>\n    <tr>\n      <th>0</th>\n      <td>0.001827</td>\n      <td>0.033693</td>\n      <td>0.114755</td>\n      <td>0.997927</td>\n      <td>0.562604</td>\n      <td>0.866499</td>\n      <td>0.578042</td>\n      <td>0.914615</td>\n      <td>0.026864</td>\n      <td>0.038641</td>\n      <td>...</td>\n      <td>0.652733</td>\n      <td>0.788235</td>\n      <td>0.054788</td>\n      <td>0.031313</td>\n      <td>False</td>\n      <td>False</td>\n      <td>False</td>\n      <td>False</td>\n      <td>True</td>\n      <td>False</td>\n    </tr>\n    <tr>\n      <th>1</th>\n      <td>0.436679</td>\n      <td>0.972653</td>\n      <td>0.084998</td>\n      <td>0.180909</td>\n      <td>0.675736</td>\n      <td>0.563889</td>\n      <td>0.798382</td>\n      <td>0.670361</td>\n      <td>0.376092</td>\n      <td>0.184890</td>\n      <td>...</td>\n      <td>0.574425</td>\n      <td>0.047025</td>\n      <td>0.607985</td>\n      <td>0.594123</td>\n      <td>False</td>\n      <td>True</td>\n      <td>False</td>\n      <td>False</td>\n      <td>False</td>\n      <td>False</td>\n    </tr>\n    <tr>\n      <th>2</th>\n      <td>0.545697</td>\n      <td>0.324815</td>\n      <td>0.584467</td>\n      <td>0.475748</td>\n      <td>0.558596</td>\n      <td>0.661007</td>\n      <td>0.934056</td>\n      <td>0.381782</td>\n      <td>0.500342</td>\n      <td>0.531829</td>\n      <td>...</td>\n      <td>0.855740</td>\n      <td>0.551124</td>\n      <td>0.413294</td>\n      <td>0.070909</td>\n      <td>False</td>\n      <td>False</td>\n      <td>False</td>\n      <td>True</td>\n      <td>False</td>\n      <td>False</td>\n    </tr>\n    <tr>\n      <th>3</th>\n      <td>0.172994</td>\n      <td>0.050351</td>\n      <td>0.736000</td>\n      <td>0.782022</td>\n      <td>0.069435</td>\n      <td>0.085219</td>\n      <td>0.032907</td>\n      <td>0.460619</td>\n      <td>0.785448</td>\n      <td>0.491495</td>\n      <td>...</td>\n      <td>0.324600</td>\n      <td>0.499504</td>\n      <td>0.436662</td>\n      <td>0.242766</td>\n      <td>False</td>\n      <td>True</td>\n      <td>False</td>\n      <td>False</td>\n      <td>False</td>\n      <td>False</td>\n    </tr>\n    <tr>\n      <th>4</th>\n      <td>0.758534</td>\n      <td>0.739968</td>\n      <td>0.597868</td>\n      <td>0.772683</td>\n      <td>0.875720</td>\n      <td>0.860265</td>\n      <td>0.486189</td>\n      <td>0.486686</td>\n      <td>0.621048</td>\n      <td>0.191756</td>\n      <td>...</td>\n      <td>0.804910</td>\n      <td>0.571119</td>\n      <td>0.188368</td>\n      <td>0.750848</td>\n      <td>False</td>\n      <td>False</td>\n      <td>False</td>\n      <td>True</td>\n      <td>False</td>\n      <td>False</td>\n    </tr>\n    <tr>\n      <th>...</th>\n      <td>...</td>\n      <td>...</td>\n      <td>...</td>\n      <td>...</td>\n      <td>...</td>\n      <td>...</td>\n      <td>...</td>\n      <td>...</td>\n      <td>...</td>\n      <td>...</td>\n      <td>...</td>\n      <td>...</td>\n      <td>...</td>\n      <td>...</td>\n      <td>...</td>\n      <td>...</td>\n      <td>...</td>\n      <td>...</td>\n      <td>...</td>\n      <td>...</td>\n      <td>...</td>\n    </tr>\n    <tr>\n      <th>481</th>\n      <td>0.985163</td>\n      <td>0.412960</td>\n      <td>0.529993</td>\n      <td>0.263765</td>\n      <td>0.431288</td>\n      <td>0.198882</td>\n      <td>0.581289</td>\n      <td>0.701192</td>\n      <td>0.249410</td>\n      <td>0.246893</td>\n      <td>...</td>\n      <td>0.015051</td>\n      <td>0.442730</td>\n      <td>0.196986</td>\n      <td>0.816038</td>\n      <td>False</td>\n      <td>True</td>\n      <td>False</td>\n      <td>False</td>\n      <td>False</td>\n      <td>False</td>\n    </tr>\n    <tr>\n      <th>482</th>\n      <td>0.581914</td>\n      <td>0.629325</td>\n      <td>0.491644</td>\n      <td>0.901473</td>\n      <td>0.347797</td>\n      <td>0.633286</td>\n      <td>0.698114</td>\n      <td>0.516947</td>\n      <td>0.674259</td>\n      <td>0.798153</td>\n      <td>...</td>\n      <td>0.825194</td>\n      <td>0.777866</td>\n      <td>0.415987</td>\n      <td>0.842804</td>\n      <td>False</td>\n      <td>False</td>\n      <td>False</td>\n      <td>True</td>\n      <td>False</td>\n      <td>False</td>\n    </tr>\n    <tr>\n      <th>483</th>\n      <td>0.066669</td>\n      <td>0.404558</td>\n      <td>0.591041</td>\n      <td>0.228401</td>\n      <td>0.127461</td>\n      <td>0.026670</td>\n      <td>0.847444</td>\n      <td>0.279740</td>\n      <td>0.575425</td>\n      <td>0.156438</td>\n      <td>...</td>\n      <td>0.559993</td>\n      <td>0.795478</td>\n      <td>0.669925</td>\n      <td>0.124874</td>\n      <td>True</td>\n      <td>False</td>\n      <td>False</td>\n      <td>False</td>\n      <td>False</td>\n      <td>False</td>\n    </tr>\n    <tr>\n      <th>484</th>\n      <td>0.901444</td>\n      <td>0.430680</td>\n      <td>0.243853</td>\n      <td>0.825551</td>\n      <td>0.493884</td>\n      <td>0.726299</td>\n      <td>0.660930</td>\n      <td>0.445560</td>\n      <td>0.349782</td>\n      <td>0.343069</td>\n      <td>...</td>\n      <td>0.938355</td>\n      <td>0.463381</td>\n      <td>0.862921</td>\n      <td>0.658526</td>\n      <td>False</td>\n      <td>True</td>\n      <td>False</td>\n      <td>False</td>\n      <td>False</td>\n      <td>False</td>\n    </tr>\n    <tr>\n      <th>485</th>\n      <td>0.877912</td>\n      <td>0.597809</td>\n      <td>0.730440</td>\n      <td>0.462307</td>\n      <td>0.498438</td>\n      <td>0.792822</td>\n      <td>0.976056</td>\n      <td>0.883937</td>\n      <td>0.202147</td>\n      <td>0.930649</td>\n      <td>...</td>\n      <td>0.016738</td>\n      <td>0.104687</td>\n      <td>0.055181</td>\n      <td>0.049341</td>\n      <td>False</td>\n      <td>True</td>\n      <td>False</td>\n      <td>False</td>\n      <td>False</td>\n      <td>False</td>\n    </tr>\n  </tbody>\n</table>\n<p>486 rows × 30 columns</p>\n</div>"
     },
     "execution_count": 58,
     "metadata": {},
     "output_type": "execute_result"
    }
   ],
   "source": [
    "Test_data"
   ],
   "metadata": {
    "collapsed": false,
    "ExecuteTime": {
     "end_time": "2024-04-23T04:04:23.125403Z",
     "start_time": "2024-04-23T04:04:23.048914Z"
    }
   },
   "id": "99894bef912479c3",
   "execution_count": 58
  },
  {
   "cell_type": "code",
   "outputs": [],
   "source": [
    "Training_label = Training_data.filter(items=['Disease_Anemia', 'Disease_Diabetes','Disease_Healthy','Disease_Thalasse','Disease_Thromboc'])\n",
    "Test_label = Test_data.filter(items=['Disease_Anemia', 'Disease_Diabetes', 'Disease_Healthy', 'Disease_Thalasse', 'Disease_Thromboc'])\n",
    "Test_data_ = Test_data.drop(columns=['Disease_Anemia', 'Disease_Diabetes', 'Disease_Healthy', 'Disease_Thalasse', 'Disease_Thromboc'])\n",
    "Training_data_ = Training_data.drop(columns=['Disease_Anemia', 'Disease_Diabetes', 'Disease_Healthy', 'Disease_Thalasse', 'Disease_Thromboc'])"
   ],
   "metadata": {
    "collapsed": false,
    "ExecuteTime": {
     "end_time": "2024-04-23T04:03:05.715744Z",
     "start_time": "2024-04-23T04:03:05.698893Z"
    }
   },
   "id": "e2769f43c371f04",
   "execution_count": 55
  },
  {
   "cell_type": "code",
   "outputs": [
    {
     "data": {
      "text/plain": "      Glucose  Cholesterol  Hemoglobin  Platelets  White Blood Cells  \\\n0    0.001827     0.033693    0.114755   0.997927           0.562604   \n1    0.436679     0.972653    0.084998   0.180909           0.675736   \n2    0.545697     0.324815    0.584467   0.475748           0.558596   \n3    0.172994     0.050351    0.736000   0.782022           0.069435   \n4    0.758534     0.739968    0.597868   0.772683           0.875720   \n..        ...          ...         ...        ...                ...   \n481  0.985163     0.412960    0.529993   0.263765           0.431288   \n482  0.581914     0.629325    0.491644   0.901473           0.347797   \n483  0.066669     0.404558    0.591041   0.228401           0.127461   \n484  0.901444     0.430680    0.243853   0.825551           0.493884   \n485  0.877912     0.597809    0.730440   0.462307           0.498438   \n\n     Red Blood Cells  Hematocrit  Mean Corpuscular Volume  \\\n0           0.866499    0.578042                 0.914615   \n1           0.563889    0.798382                 0.670361   \n2           0.661007    0.934056                 0.381782   \n3           0.085219    0.032907                 0.460619   \n4           0.860265    0.486189                 0.486686   \n..               ...         ...                      ...   \n481         0.198882    0.581289                 0.701192   \n482         0.633286    0.698114                 0.516947   \n483         0.026670    0.847444                 0.279740   \n484         0.726299    0.660930                 0.445560   \n485         0.792822    0.976056                 0.883937   \n\n     Mean Corpuscular Hemoglobin  Mean Corpuscular Hemoglobin Concentration  \\\n0                       0.026864                                   0.038641   \n1                       0.376092                                   0.184890   \n2                       0.500342                                   0.531829   \n3                       0.785448                                   0.491495   \n4                       0.621048                                   0.191756   \n..                           ...                                        ...   \n481                     0.249410                                   0.246893   \n482                     0.674259                                   0.798153   \n483                     0.575425                                   0.156438   \n484                     0.349782                                   0.343069   \n485                     0.202147                                   0.930649   \n\n     ...     HbA1c  LDL Cholesterol  HDL Cholesterol       ALT       AST  \\\n0    ...  0.653230         0.186104         0.430398  0.016678  0.885352   \n1    ...  0.833540         0.153001         0.458533  0.401845  0.635969   \n2    ...  0.678901         0.220479         0.817151  0.690981  0.101633   \n3    ...  0.381500         0.459396         0.420154  0.798537  0.399236   \n4    ...  0.993381         0.272338         0.663579  0.265227  0.918847   \n..   ...       ...              ...              ...       ...       ...   \n481  ...  0.680556         0.048191         0.465272  0.066511  0.965544   \n482  ...  0.261767         0.482322         0.799523  0.807460  0.325313   \n483  ...  0.168146         0.763625         0.677782  0.890501  0.638825   \n484  ...  0.893448         0.500059         0.112250  0.548469  0.211496   \n485  ...  0.242163         0.783372         0.568568  0.784730  0.500928   \n\n     Heart Rate  Creatinine  Troponin  C-reactive Protein  Disease_Heart Di  \n0      0.652733    0.788235  0.054788            0.031313             False  \n1      0.574425    0.047025  0.607985            0.594123             False  \n2      0.855740    0.551124  0.413294            0.070909              True  \n3      0.324600    0.499504  0.436662            0.242766             False  \n4      0.804910    0.571119  0.188368            0.750848              True  \n..          ...         ...       ...                 ...               ...  \n481    0.015051    0.442730  0.196986            0.816038             False  \n482    0.825194    0.777866  0.415987            0.842804              True  \n483    0.559993    0.795478  0.669925            0.124874             False  \n484    0.938355    0.463381  0.862921            0.658526             False  \n485    0.016738    0.104687  0.055181            0.049341             False  \n\n[486 rows x 25 columns]",
      "text/html": "<div>\n<style scoped>\n    .dataframe tbody tr th:only-of-type {\n        vertical-align: middle;\n    }\n\n    .dataframe tbody tr th {\n        vertical-align: top;\n    }\n\n    .dataframe thead th {\n        text-align: right;\n    }\n</style>\n<table border=\"1\" class=\"dataframe\">\n  <thead>\n    <tr style=\"text-align: right;\">\n      <th></th>\n      <th>Glucose</th>\n      <th>Cholesterol</th>\n      <th>Hemoglobin</th>\n      <th>Platelets</th>\n      <th>White Blood Cells</th>\n      <th>Red Blood Cells</th>\n      <th>Hematocrit</th>\n      <th>Mean Corpuscular Volume</th>\n      <th>Mean Corpuscular Hemoglobin</th>\n      <th>Mean Corpuscular Hemoglobin Concentration</th>\n      <th>...</th>\n      <th>HbA1c</th>\n      <th>LDL Cholesterol</th>\n      <th>HDL Cholesterol</th>\n      <th>ALT</th>\n      <th>AST</th>\n      <th>Heart Rate</th>\n      <th>Creatinine</th>\n      <th>Troponin</th>\n      <th>C-reactive Protein</th>\n      <th>Disease_Heart Di</th>\n    </tr>\n  </thead>\n  <tbody>\n    <tr>\n      <th>0</th>\n      <td>0.001827</td>\n      <td>0.033693</td>\n      <td>0.114755</td>\n      <td>0.997927</td>\n      <td>0.562604</td>\n      <td>0.866499</td>\n      <td>0.578042</td>\n      <td>0.914615</td>\n      <td>0.026864</td>\n      <td>0.038641</td>\n      <td>...</td>\n      <td>0.653230</td>\n      <td>0.186104</td>\n      <td>0.430398</td>\n      <td>0.016678</td>\n      <td>0.885352</td>\n      <td>0.652733</td>\n      <td>0.788235</td>\n      <td>0.054788</td>\n      <td>0.031313</td>\n      <td>False</td>\n    </tr>\n    <tr>\n      <th>1</th>\n      <td>0.436679</td>\n      <td>0.972653</td>\n      <td>0.084998</td>\n      <td>0.180909</td>\n      <td>0.675736</td>\n      <td>0.563889</td>\n      <td>0.798382</td>\n      <td>0.670361</td>\n      <td>0.376092</td>\n      <td>0.184890</td>\n      <td>...</td>\n      <td>0.833540</td>\n      <td>0.153001</td>\n      <td>0.458533</td>\n      <td>0.401845</td>\n      <td>0.635969</td>\n      <td>0.574425</td>\n      <td>0.047025</td>\n      <td>0.607985</td>\n      <td>0.594123</td>\n      <td>False</td>\n    </tr>\n    <tr>\n      <th>2</th>\n      <td>0.545697</td>\n      <td>0.324815</td>\n      <td>0.584467</td>\n      <td>0.475748</td>\n      <td>0.558596</td>\n      <td>0.661007</td>\n      <td>0.934056</td>\n      <td>0.381782</td>\n      <td>0.500342</td>\n      <td>0.531829</td>\n      <td>...</td>\n      <td>0.678901</td>\n      <td>0.220479</td>\n      <td>0.817151</td>\n      <td>0.690981</td>\n      <td>0.101633</td>\n      <td>0.855740</td>\n      <td>0.551124</td>\n      <td>0.413294</td>\n      <td>0.070909</td>\n      <td>True</td>\n    </tr>\n    <tr>\n      <th>3</th>\n      <td>0.172994</td>\n      <td>0.050351</td>\n      <td>0.736000</td>\n      <td>0.782022</td>\n      <td>0.069435</td>\n      <td>0.085219</td>\n      <td>0.032907</td>\n      <td>0.460619</td>\n      <td>0.785448</td>\n      <td>0.491495</td>\n      <td>...</td>\n      <td>0.381500</td>\n      <td>0.459396</td>\n      <td>0.420154</td>\n      <td>0.798537</td>\n      <td>0.399236</td>\n      <td>0.324600</td>\n      <td>0.499504</td>\n      <td>0.436662</td>\n      <td>0.242766</td>\n      <td>False</td>\n    </tr>\n    <tr>\n      <th>4</th>\n      <td>0.758534</td>\n      <td>0.739968</td>\n      <td>0.597868</td>\n      <td>0.772683</td>\n      <td>0.875720</td>\n      <td>0.860265</td>\n      <td>0.486189</td>\n      <td>0.486686</td>\n      <td>0.621048</td>\n      <td>0.191756</td>\n      <td>...</td>\n      <td>0.993381</td>\n      <td>0.272338</td>\n      <td>0.663579</td>\n      <td>0.265227</td>\n      <td>0.918847</td>\n      <td>0.804910</td>\n      <td>0.571119</td>\n      <td>0.188368</td>\n      <td>0.750848</td>\n      <td>True</td>\n    </tr>\n    <tr>\n      <th>...</th>\n      <td>...</td>\n      <td>...</td>\n      <td>...</td>\n      <td>...</td>\n      <td>...</td>\n      <td>...</td>\n      <td>...</td>\n      <td>...</td>\n      <td>...</td>\n      <td>...</td>\n      <td>...</td>\n      <td>...</td>\n      <td>...</td>\n      <td>...</td>\n      <td>...</td>\n      <td>...</td>\n      <td>...</td>\n      <td>...</td>\n      <td>...</td>\n      <td>...</td>\n      <td>...</td>\n    </tr>\n    <tr>\n      <th>481</th>\n      <td>0.985163</td>\n      <td>0.412960</td>\n      <td>0.529993</td>\n      <td>0.263765</td>\n      <td>0.431288</td>\n      <td>0.198882</td>\n      <td>0.581289</td>\n      <td>0.701192</td>\n      <td>0.249410</td>\n      <td>0.246893</td>\n      <td>...</td>\n      <td>0.680556</td>\n      <td>0.048191</td>\n      <td>0.465272</td>\n      <td>0.066511</td>\n      <td>0.965544</td>\n      <td>0.015051</td>\n      <td>0.442730</td>\n      <td>0.196986</td>\n      <td>0.816038</td>\n      <td>False</td>\n    </tr>\n    <tr>\n      <th>482</th>\n      <td>0.581914</td>\n      <td>0.629325</td>\n      <td>0.491644</td>\n      <td>0.901473</td>\n      <td>0.347797</td>\n      <td>0.633286</td>\n      <td>0.698114</td>\n      <td>0.516947</td>\n      <td>0.674259</td>\n      <td>0.798153</td>\n      <td>...</td>\n      <td>0.261767</td>\n      <td>0.482322</td>\n      <td>0.799523</td>\n      <td>0.807460</td>\n      <td>0.325313</td>\n      <td>0.825194</td>\n      <td>0.777866</td>\n      <td>0.415987</td>\n      <td>0.842804</td>\n      <td>True</td>\n    </tr>\n    <tr>\n      <th>483</th>\n      <td>0.066669</td>\n      <td>0.404558</td>\n      <td>0.591041</td>\n      <td>0.228401</td>\n      <td>0.127461</td>\n      <td>0.026670</td>\n      <td>0.847444</td>\n      <td>0.279740</td>\n      <td>0.575425</td>\n      <td>0.156438</td>\n      <td>...</td>\n      <td>0.168146</td>\n      <td>0.763625</td>\n      <td>0.677782</td>\n      <td>0.890501</td>\n      <td>0.638825</td>\n      <td>0.559993</td>\n      <td>0.795478</td>\n      <td>0.669925</td>\n      <td>0.124874</td>\n      <td>False</td>\n    </tr>\n    <tr>\n      <th>484</th>\n      <td>0.901444</td>\n      <td>0.430680</td>\n      <td>0.243853</td>\n      <td>0.825551</td>\n      <td>0.493884</td>\n      <td>0.726299</td>\n      <td>0.660930</td>\n      <td>0.445560</td>\n      <td>0.349782</td>\n      <td>0.343069</td>\n      <td>...</td>\n      <td>0.893448</td>\n      <td>0.500059</td>\n      <td>0.112250</td>\n      <td>0.548469</td>\n      <td>0.211496</td>\n      <td>0.938355</td>\n      <td>0.463381</td>\n      <td>0.862921</td>\n      <td>0.658526</td>\n      <td>False</td>\n    </tr>\n    <tr>\n      <th>485</th>\n      <td>0.877912</td>\n      <td>0.597809</td>\n      <td>0.730440</td>\n      <td>0.462307</td>\n      <td>0.498438</td>\n      <td>0.792822</td>\n      <td>0.976056</td>\n      <td>0.883937</td>\n      <td>0.202147</td>\n      <td>0.930649</td>\n      <td>...</td>\n      <td>0.242163</td>\n      <td>0.783372</td>\n      <td>0.568568</td>\n      <td>0.784730</td>\n      <td>0.500928</td>\n      <td>0.016738</td>\n      <td>0.104687</td>\n      <td>0.055181</td>\n      <td>0.049341</td>\n      <td>False</td>\n    </tr>\n  </tbody>\n</table>\n<p>486 rows × 25 columns</p>\n</div>"
     },
     "execution_count": 57,
     "metadata": {},
     "output_type": "execute_result"
    }
   ],
   "source": [
    "Test_data_"
   ],
   "metadata": {
    "collapsed": false,
    "ExecuteTime": {
     "end_time": "2024-04-23T04:03:22.246465Z",
     "start_time": "2024-04-23T04:03:22.211453Z"
    }
   },
   "id": "1d176d74af6639af",
   "execution_count": 57
  },
  {
   "cell_type": "code",
   "outputs": [],
   "source": [
    "from sklearn.naive_bayes import MultinomialNB"
   ],
   "metadata": {
    "collapsed": false,
    "ExecuteTime": {
     "end_time": "2024-04-23T03:47:22.507205Z",
     "start_time": "2024-04-23T03:47:22.500902Z"
    }
   },
   "id": "2cead519c204daa6",
   "execution_count": 27
  },
  {
   "cell_type": "code",
   "outputs": [
    {
     "data": {
      "text/plain": "array([2, 1, 3, ..., 0, 1, 0], dtype=int64)"
     },
     "execution_count": 28,
     "metadata": {},
     "output_type": "execute_result"
    }
   ],
   "source": [
    "np.argmax(Training_label.values, axis=1)"
   ],
   "metadata": {
    "collapsed": false,
    "ExecuteTime": {
     "end_time": "2024-04-23T03:48:10.670672Z",
     "start_time": "2024-04-23T03:48:10.650987Z"
    }
   },
   "id": "f23998da16a1cb5a",
   "execution_count": 28
  },
  {
   "cell_type": "code",
   "outputs": [
    {
     "ename": "ValueError",
     "evalue": "X has 26 features, but MultinomialNB is expecting 24 features as input.",
     "output_type": "error",
     "traceback": [
      "\u001B[1;31m---------------------------------------------------------------------------\u001B[0m",
      "\u001B[1;31mValueError\u001B[0m                                Traceback (most recent call last)",
      "Cell \u001B[1;32mIn[42], line 3\u001B[0m\n\u001B[0;32m      1\u001B[0m clf \u001B[38;5;241m=\u001B[39m MultinomialNB()\n\u001B[0;32m      2\u001B[0m clf\u001B[38;5;241m.\u001B[39mfit(Training_data_\u001B[38;5;241m.\u001B[39mvalues, np\u001B[38;5;241m.\u001B[39margmax(Training_label\u001B[38;5;241m.\u001B[39mvalues, axis\u001B[38;5;241m=\u001B[39m\u001B[38;5;241m1\u001B[39m))\n\u001B[1;32m----> 3\u001B[0m \u001B[38;5;28mprint\u001B[39m(clf\u001B[38;5;241m.\u001B[39mpredict(np\u001B[38;5;241m.\u001B[39mhstack((Test_data_\u001B[38;5;241m.\u001B[39mvalues,np\u001B[38;5;241m.\u001B[39margmax(Test_label\u001B[38;5;241m.\u001B[39mvalues, axis\u001B[38;5;241m=\u001B[39m\u001B[38;5;241m1\u001B[39m)\u001B[38;5;241m.\u001B[39mreshape(\u001B[38;5;241m-\u001B[39m\u001B[38;5;241m1\u001B[39m,\u001B[38;5;241m1\u001B[39m)))))\n",
      "File \u001B[1;32m~\\.conda\\envs\\pytorch\\Lib\\site-packages\\sklearn\\naive_bayes.py:101\u001B[0m, in \u001B[0;36m_BaseNB.predict\u001B[1;34m(self, X)\u001B[0m\n\u001B[0;32m     87\u001B[0m \u001B[38;5;250m\u001B[39m\u001B[38;5;124;03m\"\"\"\u001B[39;00m\n\u001B[0;32m     88\u001B[0m \u001B[38;5;124;03mPerform classification on an array of test vectors X.\u001B[39;00m\n\u001B[0;32m     89\u001B[0m \n\u001B[1;32m   (...)\u001B[0m\n\u001B[0;32m     98\u001B[0m \u001B[38;5;124;03m    Predicted target values for X.\u001B[39;00m\n\u001B[0;32m     99\u001B[0m \u001B[38;5;124;03m\"\"\"\u001B[39;00m\n\u001B[0;32m    100\u001B[0m check_is_fitted(\u001B[38;5;28mself\u001B[39m)\n\u001B[1;32m--> 101\u001B[0m X \u001B[38;5;241m=\u001B[39m \u001B[38;5;28mself\u001B[39m\u001B[38;5;241m.\u001B[39m_check_X(X)\n\u001B[0;32m    102\u001B[0m jll \u001B[38;5;241m=\u001B[39m \u001B[38;5;28mself\u001B[39m\u001B[38;5;241m.\u001B[39m_joint_log_likelihood(X)\n\u001B[0;32m    103\u001B[0m \u001B[38;5;28;01mreturn\u001B[39;00m \u001B[38;5;28mself\u001B[39m\u001B[38;5;241m.\u001B[39mclasses_[np\u001B[38;5;241m.\u001B[39margmax(jll, axis\u001B[38;5;241m=\u001B[39m\u001B[38;5;241m1\u001B[39m)]\n",
      "File \u001B[1;32m~\\.conda\\envs\\pytorch\\Lib\\site-packages\\sklearn\\naive_bayes.py:574\u001B[0m, in \u001B[0;36m_BaseDiscreteNB._check_X\u001B[1;34m(self, X)\u001B[0m\n\u001B[0;32m    572\u001B[0m \u001B[38;5;28;01mdef\u001B[39;00m \u001B[38;5;21m_check_X\u001B[39m(\u001B[38;5;28mself\u001B[39m, X):\n\u001B[0;32m    573\u001B[0m \u001B[38;5;250m    \u001B[39m\u001B[38;5;124;03m\"\"\"Validate X, used only in predict* methods.\"\"\"\u001B[39;00m\n\u001B[1;32m--> 574\u001B[0m     \u001B[38;5;28;01mreturn\u001B[39;00m \u001B[38;5;28mself\u001B[39m\u001B[38;5;241m.\u001B[39m_validate_data(X, accept_sparse\u001B[38;5;241m=\u001B[39m\u001B[38;5;124m\"\u001B[39m\u001B[38;5;124mcsr\u001B[39m\u001B[38;5;124m\"\u001B[39m, reset\u001B[38;5;241m=\u001B[39m\u001B[38;5;28;01mFalse\u001B[39;00m)\n",
      "File \u001B[1;32m~\\.conda\\envs\\pytorch\\Lib\\site-packages\\sklearn\\base.py:654\u001B[0m, in \u001B[0;36mBaseEstimator._validate_data\u001B[1;34m(self, X, y, reset, validate_separately, cast_to_ndarray, **check_params)\u001B[0m\n\u001B[0;32m    651\u001B[0m     out \u001B[38;5;241m=\u001B[39m X, y\n\u001B[0;32m    653\u001B[0m \u001B[38;5;28;01mif\u001B[39;00m \u001B[38;5;129;01mnot\u001B[39;00m no_val_X \u001B[38;5;129;01mand\u001B[39;00m check_params\u001B[38;5;241m.\u001B[39mget(\u001B[38;5;124m\"\u001B[39m\u001B[38;5;124mensure_2d\u001B[39m\u001B[38;5;124m\"\u001B[39m, \u001B[38;5;28;01mTrue\u001B[39;00m):\n\u001B[1;32m--> 654\u001B[0m     \u001B[38;5;28mself\u001B[39m\u001B[38;5;241m.\u001B[39m_check_n_features(X, reset\u001B[38;5;241m=\u001B[39mreset)\n\u001B[0;32m    656\u001B[0m \u001B[38;5;28;01mreturn\u001B[39;00m out\n",
      "File \u001B[1;32m~\\.conda\\envs\\pytorch\\Lib\\site-packages\\sklearn\\base.py:443\u001B[0m, in \u001B[0;36mBaseEstimator._check_n_features\u001B[1;34m(self, X, reset)\u001B[0m\n\u001B[0;32m    440\u001B[0m     \u001B[38;5;28;01mreturn\u001B[39;00m\n\u001B[0;32m    442\u001B[0m \u001B[38;5;28;01mif\u001B[39;00m n_features \u001B[38;5;241m!=\u001B[39m \u001B[38;5;28mself\u001B[39m\u001B[38;5;241m.\u001B[39mn_features_in_:\n\u001B[1;32m--> 443\u001B[0m     \u001B[38;5;28;01mraise\u001B[39;00m \u001B[38;5;167;01mValueError\u001B[39;00m(\n\u001B[0;32m    444\u001B[0m         \u001B[38;5;124mf\u001B[39m\u001B[38;5;124m\"\u001B[39m\u001B[38;5;124mX has \u001B[39m\u001B[38;5;132;01m{\u001B[39;00mn_features\u001B[38;5;132;01m}\u001B[39;00m\u001B[38;5;124m features, but \u001B[39m\u001B[38;5;132;01m{\u001B[39;00m\u001B[38;5;28mself\u001B[39m\u001B[38;5;241m.\u001B[39m\u001B[38;5;18m__class__\u001B[39m\u001B[38;5;241m.\u001B[39m\u001B[38;5;18m__name__\u001B[39m\u001B[38;5;132;01m}\u001B[39;00m\u001B[38;5;124m \u001B[39m\u001B[38;5;124m\"\u001B[39m\n\u001B[0;32m    445\u001B[0m         \u001B[38;5;124mf\u001B[39m\u001B[38;5;124m\"\u001B[39m\u001B[38;5;124mis expecting \u001B[39m\u001B[38;5;132;01m{\u001B[39;00m\u001B[38;5;28mself\u001B[39m\u001B[38;5;241m.\u001B[39mn_features_in_\u001B[38;5;132;01m}\u001B[39;00m\u001B[38;5;124m features as input.\u001B[39m\u001B[38;5;124m\"\u001B[39m\n\u001B[0;32m    446\u001B[0m     )\n",
      "\u001B[1;31mValueError\u001B[0m: X has 26 features, but MultinomialNB is expecting 24 features as input."
     ]
    }
   ],
   "source": [
    "clf = MultinomialNB()\n",
    "clf.fit(Training_data_.values, np.argmax(Training_label.values, axis=1))\n",
    "print(clf.predict(np.hstack((Test_data_.values,np.argmax(Test_label.values, axis=1).reshape(-1,1)))))"
   ],
   "metadata": {
    "collapsed": false,
    "ExecuteTime": {
     "end_time": "2024-04-23T03:59:07.556710Z",
     "start_time": "2024-04-23T03:59:07.427765Z"
    }
   },
   "id": "c8578570f1e21221",
   "execution_count": 42
  },
  {
   "cell_type": "code",
   "outputs": [
    {
     "data": {
      "text/plain": "array([[0.0018274909610678, 0.0336927112651197, 0.1147552483260163, ...,\n        0.0313134366273335, False, 3],\n       [0.4366790249061387, 0.9726526860548306, 0.0849981945325044, ...,\n        0.594123083201642, False, 1],\n       [0.5456971580340202, 0.3248148648547047, 0.5844669864811234, ...,\n        0.0709090705878511, True, 0],\n       ...,\n       [0.0666691491895858, 0.4045583834122064, 0.5910413454131311, ...,\n        0.1248738629334578, False, 0],\n       [0.9014436246479458, 0.4306804797337216, 0.2438532354107949, ...,\n        0.6585260797539705, False, 1],\n       [0.8779116801164852, 0.5978093008614855, 0.7304399020884209, ...,\n        0.0493407495796007, False, 1]], dtype=object)"
     },
     "execution_count": 41,
     "metadata": {},
     "output_type": "execute_result"
    }
   ],
   "source": [],
   "metadata": {
    "collapsed": false,
    "ExecuteTime": {
     "end_time": "2024-04-23T03:58:52.319669Z",
     "start_time": "2024-04-23T03:58:52.306691Z"
    }
   },
   "id": "82aca077e0414845",
   "execution_count": 41
  },
  {
   "cell_type": "code",
   "outputs": [
    {
     "data": {
      "text/plain": "(486, 25)"
     },
     "execution_count": 39,
     "metadata": {},
     "output_type": "execute_result"
    }
   ],
   "source": [
    "Test_data_.values.shape"
   ],
   "metadata": {
    "collapsed": false,
    "ExecuteTime": {
     "end_time": "2024-04-23T03:57:59.670735Z",
     "start_time": "2024-04-23T03:57:59.656419Z"
    }
   },
   "id": "4ef73aecfba35986",
   "execution_count": 39
  },
  {
   "cell_type": "code",
   "outputs": [
    {
     "data": {
      "text/plain": "(486,)"
     },
     "execution_count": 40,
     "metadata": {},
     "output_type": "execute_result"
    }
   ],
   "source": [
    "np.argmax(Test_label.values, axis=1).shape"
   ],
   "metadata": {
    "collapsed": false,
    "ExecuteTime": {
     "end_time": "2024-04-23T03:58:09.777526Z",
     "start_time": "2024-04-23T03:58:09.765041Z"
    }
   },
   "id": "ae1f96975860f0da",
   "execution_count": 40
  },
  {
   "cell_type": "code",
   "outputs": [],
   "source": [],
   "metadata": {
    "collapsed": false
   },
   "id": "d88d1158dac1fc6c"
  }
 ],
 "metadata": {
  "kernelspec": {
   "display_name": "Python 3",
   "language": "python",
   "name": "python3"
  },
  "language_info": {
   "codemirror_mode": {
    "name": "ipython",
    "version": 2
   },
   "file_extension": ".py",
   "mimetype": "text/x-python",
   "name": "python",
   "nbconvert_exporter": "python",
   "pygments_lexer": "ipython2",
   "version": "2.7.6"
  }
 },
 "nbformat": 4,
 "nbformat_minor": 5
}
